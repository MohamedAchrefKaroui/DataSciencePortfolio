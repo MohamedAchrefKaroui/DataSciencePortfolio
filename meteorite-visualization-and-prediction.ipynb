{
 "cells": [
  {
   "cell_type": "code",
   "execution_count": 1,
   "id": "9bee8781",
   "metadata": {
    "_cell_guid": "b1076dfc-b9ad-4769-8c92-a6c4dae69d19",
    "_uuid": "8f2839f25d086af736a60e9eeb907d3b93b6e0e5",
    "execution": {
     "iopub.execute_input": "2023-06-13T15:20:28.242911Z",
     "iopub.status.busy": "2023-06-13T15:20:28.242192Z",
     "iopub.status.idle": "2023-06-13T15:20:28.261927Z",
     "shell.execute_reply": "2023-06-13T15:20:28.261027Z"
    },
    "papermill": {
     "duration": 0.03045,
     "end_time": "2023-06-13T15:20:28.263985",
     "exception": false,
     "start_time": "2023-06-13T15:20:28.233535",
     "status": "completed"
    },
    "tags": []
   },
   "outputs": [
    {
     "name": "stdout",
     "output_type": "stream",
     "text": [
      "/kaggle/input/meteorite-landings/meteorite-landings.csv\n"
     ]
    }
   ],
   "source": [
    "\n",
    "import numpy as np # linear algebra\n",
    "import pandas as pd # data processing, CSV file I/O (e.g. pd.read_csv)\n",
    "\n",
    "import os\n",
    "for dirname, _, filenames in os.walk('/kaggle/input'):\n",
    "    for filename in filenames:\n",
    "        print(os.path.join(dirname, filename))\n"
   ]
  },
  {
   "cell_type": "code",
   "execution_count": 2,
   "id": "9ce2ffe6",
   "metadata": {
    "execution": {
     "iopub.execute_input": "2023-06-13T15:20:28.279284Z",
     "iopub.status.busy": "2023-06-13T15:20:28.278683Z",
     "iopub.status.idle": "2023-06-13T15:20:28.440397Z",
     "shell.execute_reply": "2023-06-13T15:20:28.439384Z"
    },
    "papermill": {
     "duration": 0.17181,
     "end_time": "2023-06-13T15:20:28.442659",
     "exception": false,
     "start_time": "2023-06-13T15:20:28.270849",
     "status": "completed"
    },
    "tags": []
   },
   "outputs": [],
   "source": [
    "data=pd.read_csv(\"/kaggle/input/meteorite-landings/meteorite-landings.csv\")"
   ]
  },
  {
   "cell_type": "code",
   "execution_count": 3,
   "id": "a4be6448",
   "metadata": {
    "execution": {
     "iopub.execute_input": "2023-06-13T15:20:28.458091Z",
     "iopub.status.busy": "2023-06-13T15:20:28.457272Z",
     "iopub.status.idle": "2023-06-13T15:20:28.490144Z",
     "shell.execute_reply": "2023-06-13T15:20:28.488757Z"
    },
    "papermill": {
     "duration": 0.043319,
     "end_time": "2023-06-13T15:20:28.492900",
     "exception": false,
     "start_time": "2023-06-13T15:20:28.449581",
     "status": "completed"
    },
    "tags": []
   },
   "outputs": [
    {
     "data": {
      "text/html": [
       "<div>\n",
       "<style scoped>\n",
       "    .dataframe tbody tr th:only-of-type {\n",
       "        vertical-align: middle;\n",
       "    }\n",
       "\n",
       "    .dataframe tbody tr th {\n",
       "        vertical-align: top;\n",
       "    }\n",
       "\n",
       "    .dataframe thead th {\n",
       "        text-align: right;\n",
       "    }\n",
       "</style>\n",
       "<table border=\"1\" class=\"dataframe\">\n",
       "  <thead>\n",
       "    <tr style=\"text-align: right;\">\n",
       "      <th></th>\n",
       "      <th>name</th>\n",
       "      <th>id</th>\n",
       "      <th>nametype</th>\n",
       "      <th>recclass</th>\n",
       "      <th>mass</th>\n",
       "      <th>fall</th>\n",
       "      <th>year</th>\n",
       "      <th>reclat</th>\n",
       "      <th>reclong</th>\n",
       "      <th>GeoLocation</th>\n",
       "    </tr>\n",
       "  </thead>\n",
       "  <tbody>\n",
       "    <tr>\n",
       "      <th>0</th>\n",
       "      <td>Aachen</td>\n",
       "      <td>1</td>\n",
       "      <td>Valid</td>\n",
       "      <td>L5</td>\n",
       "      <td>21.0</td>\n",
       "      <td>Fell</td>\n",
       "      <td>1880.0</td>\n",
       "      <td>50.77500</td>\n",
       "      <td>6.08333</td>\n",
       "      <td>(50.775000, 6.083330)</td>\n",
       "    </tr>\n",
       "    <tr>\n",
       "      <th>1</th>\n",
       "      <td>Aarhus</td>\n",
       "      <td>2</td>\n",
       "      <td>Valid</td>\n",
       "      <td>H6</td>\n",
       "      <td>720.0</td>\n",
       "      <td>Fell</td>\n",
       "      <td>1951.0</td>\n",
       "      <td>56.18333</td>\n",
       "      <td>10.23333</td>\n",
       "      <td>(56.183330, 10.233330)</td>\n",
       "    </tr>\n",
       "    <tr>\n",
       "      <th>2</th>\n",
       "      <td>Abee</td>\n",
       "      <td>6</td>\n",
       "      <td>Valid</td>\n",
       "      <td>EH4</td>\n",
       "      <td>107000.0</td>\n",
       "      <td>Fell</td>\n",
       "      <td>1952.0</td>\n",
       "      <td>54.21667</td>\n",
       "      <td>-113.00000</td>\n",
       "      <td>(54.216670, -113.000000)</td>\n",
       "    </tr>\n",
       "    <tr>\n",
       "      <th>3</th>\n",
       "      <td>Acapulco</td>\n",
       "      <td>10</td>\n",
       "      <td>Valid</td>\n",
       "      <td>Acapulcoite</td>\n",
       "      <td>1914.0</td>\n",
       "      <td>Fell</td>\n",
       "      <td>1976.0</td>\n",
       "      <td>16.88333</td>\n",
       "      <td>-99.90000</td>\n",
       "      <td>(16.883330, -99.900000)</td>\n",
       "    </tr>\n",
       "    <tr>\n",
       "      <th>4</th>\n",
       "      <td>Achiras</td>\n",
       "      <td>370</td>\n",
       "      <td>Valid</td>\n",
       "      <td>L6</td>\n",
       "      <td>780.0</td>\n",
       "      <td>Fell</td>\n",
       "      <td>1902.0</td>\n",
       "      <td>-33.16667</td>\n",
       "      <td>-64.95000</td>\n",
       "      <td>(-33.166670, -64.950000)</td>\n",
       "    </tr>\n",
       "  </tbody>\n",
       "</table>\n",
       "</div>"
      ],
      "text/plain": [
       "       name   id nametype     recclass      mass  fall    year    reclat  \\\n",
       "0    Aachen    1    Valid           L5      21.0  Fell  1880.0  50.77500   \n",
       "1    Aarhus    2    Valid           H6     720.0  Fell  1951.0  56.18333   \n",
       "2      Abee    6    Valid          EH4  107000.0  Fell  1952.0  54.21667   \n",
       "3  Acapulco   10    Valid  Acapulcoite    1914.0  Fell  1976.0  16.88333   \n",
       "4   Achiras  370    Valid           L6     780.0  Fell  1902.0 -33.16667   \n",
       "\n",
       "     reclong               GeoLocation  \n",
       "0    6.08333     (50.775000, 6.083330)  \n",
       "1   10.23333    (56.183330, 10.233330)  \n",
       "2 -113.00000  (54.216670, -113.000000)  \n",
       "3  -99.90000   (16.883330, -99.900000)  \n",
       "4  -64.95000  (-33.166670, -64.950000)  "
      ]
     },
     "execution_count": 3,
     "metadata": {},
     "output_type": "execute_result"
    }
   ],
   "source": [
    "data.head()"
   ]
  },
  {
   "cell_type": "code",
   "execution_count": 4,
   "id": "fbbef492",
   "metadata": {
    "execution": {
     "iopub.execute_input": "2023-06-13T15:20:28.510159Z",
     "iopub.status.busy": "2023-06-13T15:20:28.509823Z",
     "iopub.status.idle": "2023-06-13T15:20:28.516529Z",
     "shell.execute_reply": "2023-06-13T15:20:28.514949Z"
    },
    "papermill": {
     "duration": 0.017845,
     "end_time": "2023-06-13T15:20:28.519462",
     "exception": false,
     "start_time": "2023-06-13T15:20:28.501617",
     "status": "completed"
    },
    "tags": []
   },
   "outputs": [
    {
     "name": "stdout",
     "output_type": "stream",
     "text": [
      "(45716, 10)\n",
      "name            object\n",
      "id               int64\n",
      "nametype        object\n",
      "recclass        object\n",
      "mass           float64\n",
      "fall            object\n",
      "year           float64\n",
      "reclat         float64\n",
      "reclong        float64\n",
      "GeoLocation     object\n",
      "dtype: object\n"
     ]
    }
   ],
   "source": [
    "print(data.shape)\n",
    "print(data.dtypes)"
   ]
  },
  {
   "cell_type": "code",
   "execution_count": 5,
   "id": "ef8f939f",
   "metadata": {
    "execution": {
     "iopub.execute_input": "2023-06-13T15:20:28.535115Z",
     "iopub.status.busy": "2023-06-13T15:20:28.534606Z",
     "iopub.status.idle": "2023-06-13T15:20:28.577452Z",
     "shell.execute_reply": "2023-06-13T15:20:28.576585Z"
    },
    "papermill": {
     "duration": 0.053327,
     "end_time": "2023-06-13T15:20:28.579816",
     "exception": false,
     "start_time": "2023-06-13T15:20:28.526489",
     "status": "completed"
    },
    "tags": []
   },
   "outputs": [
    {
     "data": {
      "text/plain": [
       "name            0.000000\n",
       "id              0.000000\n",
       "nametype        0.000000\n",
       "recclass        0.000000\n",
       "mass            0.286552\n",
       "fall            0.000000\n",
       "year            0.629976\n",
       "reclat         16.000962\n",
       "reclong        16.000962\n",
       "GeoLocation    16.000962\n",
       "dtype: float64"
      ]
     },
     "execution_count": 5,
     "metadata": {},
     "output_type": "execute_result"
    }
   ],
   "source": [
    "data.isna().sum()/data.shape[0]*100"
   ]
  },
  {
   "cell_type": "code",
   "execution_count": 6,
   "id": "a1ddc544",
   "metadata": {
    "execution": {
     "iopub.execute_input": "2023-06-13T15:20:28.595915Z",
     "iopub.status.busy": "2023-06-13T15:20:28.595365Z",
     "iopub.status.idle": "2023-06-13T15:20:28.600683Z",
     "shell.execute_reply": "2023-06-13T15:20:28.599743Z"
    },
    "papermill": {
     "duration": 0.015707,
     "end_time": "2023-06-13T15:20:28.602686",
     "exception": false,
     "start_time": "2023-06-13T15:20:28.586979",
     "status": "completed"
    },
    "tags": []
   },
   "outputs": [],
   "source": [
    "data[\"mass\"]=data[\"mass\"].replace(np.NAN,data[\"mass\"].mean())"
   ]
  },
  {
   "cell_type": "code",
   "execution_count": 7,
   "id": "5b4bd045",
   "metadata": {
    "execution": {
     "iopub.execute_input": "2023-06-13T15:20:28.618632Z",
     "iopub.status.busy": "2023-06-13T15:20:28.617965Z",
     "iopub.status.idle": "2023-06-13T15:20:28.623935Z",
     "shell.execute_reply": "2023-06-13T15:20:28.623134Z"
    },
    "papermill": {
     "duration": 0.016445,
     "end_time": "2023-06-13T15:20:28.626282",
     "exception": false,
     "start_time": "2023-06-13T15:20:28.609837",
     "status": "completed"
    },
    "tags": []
   },
   "outputs": [
    {
     "data": {
      "text/plain": [
       "0"
      ]
     },
     "execution_count": 7,
     "metadata": {},
     "output_type": "execute_result"
    }
   ],
   "source": [
    "data[\"mass\"].isna().sum()"
   ]
  },
  {
   "cell_type": "code",
   "execution_count": 8,
   "id": "ba01185e",
   "metadata": {
    "execution": {
     "iopub.execute_input": "2023-06-13T15:20:28.643030Z",
     "iopub.status.busy": "2023-06-13T15:20:28.642343Z",
     "iopub.status.idle": "2023-06-13T15:20:28.652738Z",
     "shell.execute_reply": "2023-06-13T15:20:28.651324Z"
    },
    "papermill": {
     "duration": 0.02146,
     "end_time": "2023-06-13T15:20:28.655193",
     "exception": false,
     "start_time": "2023-06-13T15:20:28.633733",
     "status": "completed"
    },
    "tags": []
   },
   "outputs": [],
   "source": [
    "data[\"year\"]=data[\"year\"].replace(np.NAN,data[\"year\"].mode()[0])"
   ]
  },
  {
   "cell_type": "code",
   "execution_count": 9,
   "id": "d783b423",
   "metadata": {
    "execution": {
     "iopub.execute_input": "2023-06-13T15:20:28.671276Z",
     "iopub.status.busy": "2023-06-13T15:20:28.670669Z",
     "iopub.status.idle": "2023-06-13T15:20:31.320231Z",
     "shell.execute_reply": "2023-06-13T15:20:31.319241Z"
    },
    "papermill": {
     "duration": 2.660274,
     "end_time": "2023-06-13T15:20:31.322553",
     "exception": false,
     "start_time": "2023-06-13T15:20:28.662279",
     "status": "completed"
    },
    "tags": []
   },
   "outputs": [
    {
     "data": {
      "text/html": [
       "        <script type=\"text/javascript\">\n",
       "        window.PlotlyConfig = {MathJaxConfig: 'local'};\n",
       "        if (window.MathJax && window.MathJax.Hub && window.MathJax.Hub.Config) {window.MathJax.Hub.Config({SVG: {font: \"STIX-Web\"}});}\n",
       "        if (typeof require !== 'undefined') {\n",
       "        require.undef(\"plotly\");\n",
       "        requirejs.config({\n",
       "            paths: {\n",
       "                'plotly': ['https://cdn.plot.ly/plotly-2.20.0.min']\n",
       "            }\n",
       "        });\n",
       "        require(['plotly'], function(Plotly) {\n",
       "            window._Plotly = Plotly;\n",
       "        });\n",
       "        }\n",
       "        </script>\n",
       "        "
      ]
     },
     "metadata": {},
     "output_type": "display_data"
    },
    {
     "data": {
      "text/html": [
       "<div>                            <div id=\"b49fd788-24d1-452b-a21f-12affa0fb33c\" class=\"plotly-graph-div\" style=\"height:525px; width:100%;\"></div>            <script type=\"text/javascript\">                require([\"plotly\"], function(Plotly) {                    window.PLOTLYENV=window.PLOTLYENV || {};                                    if (document.getElementById(\"b49fd788-24d1-452b-a21f-12affa0fb33c\")) {                    Plotly.newPlot(                        \"b49fd788-24d1-452b-a21f-12affa0fb33c\",                        [{\"geo\":\"geo\",\"hovertemplate\":\"name=Aachen<br>reclat=%{lat}<br>reclong=%{lon}<extra></extra>\",\"lat\":[50.775],\"legendgroup\":\"Aachen\",\"lon\":[6.08333],\"marker\":{\"color\":\"#636efa\",\"symbol\":\"circle\"},\"mode\":\"markers\",\"name\":\"Aachen\",\"showlegend\":true,\"type\":\"scattergeo\"},{\"geo\":\"geo\",\"hovertemplate\":\"name=Aarhus<br>reclat=%{lat}<br>reclong=%{lon}<extra></extra>\",\"lat\":[56.18333],\"legendgroup\":\"Aarhus\",\"lon\":[10.23333],\"marker\":{\"color\":\"#EF553B\",\"symbol\":\"circle\"},\"mode\":\"markers\",\"name\":\"Aarhus\",\"showlegend\":true,\"type\":\"scattergeo\"},{\"geo\":\"geo\",\"hovertemplate\":\"name=Abee<br>reclat=%{lat}<br>reclong=%{lon}<extra></extra>\",\"lat\":[54.21667],\"legendgroup\":\"Abee\",\"lon\":[-113.0],\"marker\":{\"color\":\"#00cc96\",\"symbol\":\"circle\"},\"mode\":\"markers\",\"name\":\"Abee\",\"showlegend\":true,\"type\":\"scattergeo\"},{\"geo\":\"geo\",\"hovertemplate\":\"name=Acapulco<br>reclat=%{lat}<br>reclong=%{lon}<extra></extra>\",\"lat\":[16.88333],\"legendgroup\":\"Acapulco\",\"lon\":[-99.9],\"marker\":{\"color\":\"#ab63fa\",\"symbol\":\"circle\"},\"mode\":\"markers\",\"name\":\"Acapulco\",\"showlegend\":true,\"type\":\"scattergeo\"},{\"geo\":\"geo\",\"hovertemplate\":\"name=Achiras<br>reclat=%{lat}<br>reclong=%{lon}<extra></extra>\",\"lat\":[-33.16667],\"legendgroup\":\"Achiras\",\"lon\":[-64.95],\"marker\":{\"color\":\"#FFA15A\",\"symbol\":\"circle\"},\"mode\":\"markers\",\"name\":\"Achiras\",\"showlegend\":true,\"type\":\"scattergeo\"},{\"geo\":\"geo\",\"hovertemplate\":\"name=Adhi Kot<br>reclat=%{lat}<br>reclong=%{lon}<extra></extra>\",\"lat\":[32.1],\"legendgroup\":\"Adhi Kot\",\"lon\":[71.8],\"marker\":{\"color\":\"#19d3f3\",\"symbol\":\"circle\"},\"mode\":\"markers\",\"name\":\"Adhi Kot\",\"showlegend\":true,\"type\":\"scattergeo\"},{\"geo\":\"geo\",\"hovertemplate\":\"name=Adzhi-Bogdo (stone)<br>reclat=%{lat}<br>reclong=%{lon}<extra></extra>\",\"lat\":[44.83333],\"legendgroup\":\"Adzhi-Bogdo (stone)\",\"lon\":[95.16667],\"marker\":{\"color\":\"#FF6692\",\"symbol\":\"circle\"},\"mode\":\"markers\",\"name\":\"Adzhi-Bogdo (stone)\",\"showlegend\":true,\"type\":\"scattergeo\"},{\"geo\":\"geo\",\"hovertemplate\":\"name=Agen<br>reclat=%{lat}<br>reclong=%{lon}<extra></extra>\",\"lat\":[44.21667],\"legendgroup\":\"Agen\",\"lon\":[0.61667],\"marker\":{\"color\":\"#B6E880\",\"symbol\":\"circle\"},\"mode\":\"markers\",\"name\":\"Agen\",\"showlegend\":true,\"type\":\"scattergeo\"},{\"geo\":\"geo\",\"hovertemplate\":\"name=Aguada<br>reclat=%{lat}<br>reclong=%{lon}<extra></extra>\",\"lat\":[-31.6],\"legendgroup\":\"Aguada\",\"lon\":[-65.23333],\"marker\":{\"color\":\"#FF97FF\",\"symbol\":\"circle\"},\"mode\":\"markers\",\"name\":\"Aguada\",\"showlegend\":true,\"type\":\"scattergeo\"},{\"geo\":\"geo\",\"hovertemplate\":\"name=Aguila Blanca<br>reclat=%{lat}<br>reclong=%{lon}<extra></extra>\",\"lat\":[-30.86667],\"legendgroup\":\"Aguila Blanca\",\"lon\":[-64.55],\"marker\":{\"color\":\"#FECB52\",\"symbol\":\"circle\"},\"mode\":\"markers\",\"name\":\"Aguila Blanca\",\"showlegend\":true,\"type\":\"scattergeo\"},{\"geo\":\"geo\",\"hovertemplate\":\"name=Aioun el Atrouss<br>reclat=%{lat}<br>reclong=%{lon}<extra></extra>\",\"lat\":[16.39806],\"legendgroup\":\"Aioun el Atrouss\",\"lon\":[-9.57028],\"marker\":{\"color\":\"#636efa\",\"symbol\":\"circle\"},\"mode\":\"markers\",\"name\":\"Aioun el Atrouss\",\"showlegend\":true,\"type\":\"scattergeo\"},{\"geo\":\"geo\",\"hovertemplate\":\"name=Aïr<br>reclat=%{lat}<br>reclong=%{lon}<extra></extra>\",\"lat\":[19.08333],\"legendgroup\":\"Aïr\",\"lon\":[8.38333],\"marker\":{\"color\":\"#EF553B\",\"symbol\":\"circle\"},\"mode\":\"markers\",\"name\":\"Aïr\",\"showlegend\":true,\"type\":\"scattergeo\"},{\"geo\":\"geo\",\"hovertemplate\":\"name=Aire-sur-la-Lys<br>reclat=%{lat}<br>reclong=%{lon}<extra></extra>\",\"lat\":[50.66667],\"legendgroup\":\"Aire-sur-la-Lys\",\"lon\":[2.33333],\"marker\":{\"color\":\"#00cc96\",\"symbol\":\"circle\"},\"mode\":\"markers\",\"name\":\"Aire-sur-la-Lys\",\"showlegend\":true,\"type\":\"scattergeo\"},{\"geo\":\"geo\",\"hovertemplate\":\"name=Akaba<br>reclat=%{lat}<br>reclong=%{lon}<extra></extra>\",\"lat\":[29.51667],\"legendgroup\":\"Akaba\",\"lon\":[35.05],\"marker\":{\"color\":\"#ab63fa\",\"symbol\":\"circle\"},\"mode\":\"markers\",\"name\":\"Akaba\",\"showlegend\":true,\"type\":\"scattergeo\"},{\"geo\":\"geo\",\"hovertemplate\":\"name=Akbarpur<br>reclat=%{lat}<br>reclong=%{lon}<extra></extra>\",\"lat\":[29.71667],\"legendgroup\":\"Akbarpur\",\"lon\":[77.95],\"marker\":{\"color\":\"#FFA15A\",\"symbol\":\"circle\"},\"mode\":\"markers\",\"name\":\"Akbarpur\",\"showlegend\":true,\"type\":\"scattergeo\"},{\"geo\":\"geo\",\"hovertemplate\":\"name=Akwanga<br>reclat=%{lat}<br>reclong=%{lon}<extra></extra>\",\"lat\":[8.91667],\"legendgroup\":\"Akwanga\",\"lon\":[8.43333],\"marker\":{\"color\":\"#19d3f3\",\"symbol\":\"circle\"},\"mode\":\"markers\",\"name\":\"Akwanga\",\"showlegend\":true,\"type\":\"scattergeo\"},{\"geo\":\"geo\",\"hovertemplate\":\"name=Akyumak<br>reclat=%{lat}<br>reclong=%{lon}<extra></extra>\",\"lat\":[39.91667],\"legendgroup\":\"Akyumak\",\"lon\":[42.81667],\"marker\":{\"color\":\"#FF6692\",\"symbol\":\"circle\"},\"mode\":\"markers\",\"name\":\"Akyumak\",\"showlegend\":true,\"type\":\"scattergeo\"},{\"geo\":\"geo\",\"hovertemplate\":\"name=Al Rais<br>reclat=%{lat}<br>reclong=%{lon}<extra></extra>\",\"lat\":[24.41667],\"legendgroup\":\"Al Rais\",\"lon\":[39.51667],\"marker\":{\"color\":\"#B6E880\",\"symbol\":\"circle\"},\"mode\":\"markers\",\"name\":\"Al Rais\",\"showlegend\":true,\"type\":\"scattergeo\"},{\"geo\":\"geo\",\"hovertemplate\":\"name=Al Zarnkh<br>reclat=%{lat}<br>reclong=%{lon}<extra></extra>\",\"lat\":[13.66033],\"legendgroup\":\"Al Zarnkh\",\"lon\":[28.96],\"marker\":{\"color\":\"#FF97FF\",\"symbol\":\"circle\"},\"mode\":\"markers\",\"name\":\"Al Zarnkh\",\"showlegend\":true,\"type\":\"scattergeo\"},{\"geo\":\"geo\",\"hovertemplate\":\"name=Alais<br>reclat=%{lat}<br>reclong=%{lon}<extra></extra>\",\"lat\":[44.11667],\"legendgroup\":\"Alais\",\"lon\":[4.08333],\"marker\":{\"color\":\"#FECB52\",\"symbol\":\"circle\"},\"mode\":\"markers\",\"name\":\"Alais\",\"showlegend\":true,\"type\":\"scattergeo\"},{\"geo\":\"geo\",\"hovertemplate\":\"name=Albareto<br>reclat=%{lat}<br>reclong=%{lon}<extra></extra>\",\"lat\":[44.65],\"legendgroup\":\"Albareto\",\"lon\":[11.01667],\"marker\":{\"color\":\"#636efa\",\"symbol\":\"circle\"},\"mode\":\"markers\",\"name\":\"Albareto\",\"showlegend\":true,\"type\":\"scattergeo\"},{\"geo\":\"geo\",\"hovertemplate\":\"name=Alberta<br>reclat=%{lat}<br>reclong=%{lon}<extra></extra>\",\"lat\":[2.0],\"legendgroup\":\"Alberta\",\"lon\":[22.66667],\"marker\":{\"color\":\"#EF553B\",\"symbol\":\"circle\"},\"mode\":\"markers\",\"name\":\"Alberta\",\"showlegend\":true,\"type\":\"scattergeo\"},{\"geo\":\"geo\",\"hovertemplate\":\"name=Alby sur Chéran<br>reclat=%{lat}<br>reclong=%{lon}<extra></extra>\",\"lat\":[45.82133],\"legendgroup\":\"Alby sur Chéran\",\"lon\":[6.01533],\"marker\":{\"color\":\"#00cc96\",\"symbol\":\"circle\"},\"mode\":\"markers\",\"name\":\"Alby sur Chéran\",\"showlegend\":true,\"type\":\"scattergeo\"},{\"geo\":\"geo\",\"hovertemplate\":\"name=Aldsworth<br>reclat=%{lat}<br>reclong=%{lon}<extra></extra>\",\"lat\":[51.78333],\"legendgroup\":\"Aldsworth\",\"lon\":[-1.78333],\"marker\":{\"color\":\"#ab63fa\",\"symbol\":\"circle\"},\"mode\":\"markers\",\"name\":\"Aldsworth\",\"showlegend\":true,\"type\":\"scattergeo\"},{\"geo\":\"geo\",\"hovertemplate\":\"name=Aleppo<br>reclat=%{lat}<br>reclong=%{lon}<extra></extra>\",\"lat\":[36.23333],\"legendgroup\":\"Aleppo\",\"lon\":[37.13333],\"marker\":{\"color\":\"#FFA15A\",\"symbol\":\"circle\"},\"mode\":\"markers\",\"name\":\"Aleppo\",\"showlegend\":true,\"type\":\"scattergeo\"},{\"geo\":\"geo\",\"hovertemplate\":\"name=Alessandria<br>reclat=%{lat}<br>reclong=%{lon}<extra></extra>\",\"lat\":[44.88333],\"legendgroup\":\"Alessandria\",\"lon\":[8.75],\"marker\":{\"color\":\"#19d3f3\",\"symbol\":\"circle\"},\"mode\":\"markers\",\"name\":\"Alessandria\",\"showlegend\":true,\"type\":\"scattergeo\"},{\"geo\":\"geo\",\"hovertemplate\":\"name=Alexandrovsky<br>reclat=%{lat}<br>reclong=%{lon}<extra></extra>\",\"lat\":[50.95],\"legendgroup\":\"Alexandrovsky\",\"lon\":[31.81667],\"marker\":{\"color\":\"#FF6692\",\"symbol\":\"circle\"},\"mode\":\"markers\",\"name\":\"Alexandrovsky\",\"showlegend\":true,\"type\":\"scattergeo\"},{\"geo\":\"geo\",\"hovertemplate\":\"name=Alfianello<br>reclat=%{lat}<br>reclong=%{lon}<extra></extra>\",\"lat\":[45.26667],\"legendgroup\":\"Alfianello\",\"lon\":[10.15],\"marker\":{\"color\":\"#B6E880\",\"symbol\":\"circle\"},\"mode\":\"markers\",\"name\":\"Alfianello\",\"showlegend\":true,\"type\":\"scattergeo\"},{\"geo\":\"geo\",\"hovertemplate\":\"name=Allegan<br>reclat=%{lat}<br>reclong=%{lon}<extra></extra>\",\"lat\":[42.53333],\"legendgroup\":\"Allegan\",\"lon\":[-85.88333],\"marker\":{\"color\":\"#FF97FF\",\"symbol\":\"circle\"},\"mode\":\"markers\",\"name\":\"Allegan\",\"showlegend\":true,\"type\":\"scattergeo\"},{\"geo\":\"geo\",\"hovertemplate\":\"name=Allende<br>reclat=%{lat}<br>reclong=%{lon}<extra></extra>\",\"lat\":[26.96667],\"legendgroup\":\"Allende\",\"lon\":[-105.31667],\"marker\":{\"color\":\"#FECB52\",\"symbol\":\"circle\"},\"mode\":\"markers\",\"name\":\"Allende\",\"showlegend\":true,\"type\":\"scattergeo\"},{\"geo\":\"geo\",\"hovertemplate\":\"name=Almahata Sitta<br>reclat=%{lat}<br>reclong=%{lon}<extra></extra>\",\"lat\":[20.74575],\"legendgroup\":\"Almahata Sitta\",\"lon\":[32.41275],\"marker\":{\"color\":\"#636efa\",\"symbol\":\"circle\"},\"mode\":\"markers\",\"name\":\"Almahata Sitta\",\"showlegend\":true,\"type\":\"scattergeo\"},{\"geo\":\"geo\",\"hovertemplate\":\"name=Alta'ameem<br>reclat=%{lat}<br>reclong=%{lon}<extra></extra>\",\"lat\":[35.27333],\"legendgroup\":\"Alta'ameem\",\"lon\":[44.21556],\"marker\":{\"color\":\"#EF553B\",\"symbol\":\"circle\"},\"mode\":\"markers\",\"name\":\"Alta'ameem\",\"showlegend\":true,\"type\":\"scattergeo\"},{\"geo\":\"geo\",\"hovertemplate\":\"name=Ambapur Nagla<br>reclat=%{lat}<br>reclong=%{lon}<extra></extra>\",\"lat\":[27.66667],\"legendgroup\":\"Ambapur Nagla\",\"lon\":[78.25],\"marker\":{\"color\":\"#00cc96\",\"symbol\":\"circle\"},\"mode\":\"markers\",\"name\":\"Ambapur Nagla\",\"showlegend\":true,\"type\":\"scattergeo\"},{\"geo\":\"geo\",\"hovertemplate\":\"name=Andhara<br>reclat=%{lat}<br>reclong=%{lon}<extra></extra>\",\"lat\":[26.58333],\"legendgroup\":\"Andhara\",\"lon\":[85.56667],\"marker\":{\"color\":\"#ab63fa\",\"symbol\":\"circle\"},\"mode\":\"markers\",\"name\":\"Andhara\",\"showlegend\":true,\"type\":\"scattergeo\"},{\"geo\":\"geo\",\"hovertemplate\":\"name=Andover<br>reclat=%{lat}<br>reclong=%{lon}<extra></extra>\",\"lat\":[44.61667],\"legendgroup\":\"Andover\",\"lon\":[-70.75],\"marker\":{\"color\":\"#FFA15A\",\"symbol\":\"circle\"},\"mode\":\"markers\",\"name\":\"Andover\",\"showlegend\":true,\"type\":\"scattergeo\"},{\"geo\":\"geo\",\"hovertemplate\":\"name=Andreevka<br>reclat=%{lat}<br>reclong=%{lon}<extra></extra>\",\"lat\":[48.7],\"legendgroup\":\"Andreevka\",\"lon\":[37.5],\"marker\":{\"color\":\"#19d3f3\",\"symbol\":\"circle\"},\"mode\":\"markers\",\"name\":\"Andreevka\",\"showlegend\":true,\"type\":\"scattergeo\"},{\"geo\":\"geo\",\"hovertemplate\":\"name=Andura<br>reclat=%{lat}<br>reclong=%{lon}<extra></extra>\",\"lat\":[20.88333],\"legendgroup\":\"Andura\",\"lon\":[76.86667],\"marker\":{\"color\":\"#FF6692\",\"symbol\":\"circle\"},\"mode\":\"markers\",\"name\":\"Andura\",\"showlegend\":true,\"type\":\"scattergeo\"},{\"geo\":\"geo\",\"hovertemplate\":\"name=Northwest Africa 5815<br>reclat=%{lat}<br>reclong=%{lon}<extra></extra>\",\"lat\":[0.0],\"legendgroup\":\"Northwest Africa 5815\",\"lon\":[0.0],\"marker\":{\"color\":\"#B6E880\",\"symbol\":\"circle\"},\"mode\":\"markers\",\"name\":\"Northwest Africa 5815\",\"showlegend\":true,\"type\":\"scattergeo\"},{\"geo\":\"geo\",\"hovertemplate\":\"name=Angers<br>reclat=%{lat}<br>reclong=%{lon}<extra></extra>\",\"lat\":[47.46667],\"legendgroup\":\"Angers\",\"lon\":[-0.55],\"marker\":{\"color\":\"#FF97FF\",\"symbol\":\"circle\"},\"mode\":\"markers\",\"name\":\"Angers\",\"showlegend\":true,\"type\":\"scattergeo\"},{\"geo\":\"geo\",\"hovertemplate\":\"name=Angra dos Reis (stone)<br>reclat=%{lat}<br>reclong=%{lon}<extra></extra>\",\"lat\":[-22.96667],\"legendgroup\":\"Angra dos Reis (stone)\",\"lon\":[-44.31667],\"marker\":{\"color\":\"#FECB52\",\"symbol\":\"circle\"},\"mode\":\"markers\",\"name\":\"Angra dos Reis (stone)\",\"showlegend\":true,\"type\":\"scattergeo\"},{\"geo\":\"geo\",\"hovertemplate\":\"name=Ankober<br>reclat=%{lat}<br>reclong=%{lon}<extra></extra>\",\"lat\":[9.53333],\"legendgroup\":\"Ankober\",\"lon\":[39.71667],\"marker\":{\"color\":\"#636efa\",\"symbol\":\"circle\"},\"mode\":\"markers\",\"name\":\"Ankober\",\"showlegend\":true,\"type\":\"scattergeo\"},{\"geo\":\"geo\",\"hovertemplate\":\"name=Anlong<br>reclat=%{lat}<br>reclong=%{lon}<extra></extra>\",\"lat\":[25.15],\"legendgroup\":\"Anlong\",\"lon\":[105.18333],\"marker\":{\"color\":\"#EF553B\",\"symbol\":\"circle\"},\"mode\":\"markers\",\"name\":\"Anlong\",\"showlegend\":true,\"type\":\"scattergeo\"},{\"geo\":\"geo\",\"hovertemplate\":\"name=Aomori<br>reclat=%{lat}<br>reclong=%{lon}<extra></extra>\",\"lat\":[40.81056],\"legendgroup\":\"Aomori\",\"lon\":[140.78556],\"marker\":{\"color\":\"#00cc96\",\"symbol\":\"circle\"},\"mode\":\"markers\",\"name\":\"Aomori\",\"showlegend\":true,\"type\":\"scattergeo\"},{\"geo\":\"geo\",\"hovertemplate\":\"name=Appley Bridge<br>reclat=%{lat}<br>reclong=%{lon}<extra></extra>\",\"lat\":[53.58333],\"legendgroup\":\"Appley Bridge\",\"lon\":[-2.71667],\"marker\":{\"color\":\"#ab63fa\",\"symbol\":\"circle\"},\"mode\":\"markers\",\"name\":\"Appley Bridge\",\"showlegend\":true,\"type\":\"scattergeo\"},{\"geo\":\"geo\",\"hovertemplate\":\"name=Apt<br>reclat=%{lat}<br>reclong=%{lon}<extra></extra>\",\"lat\":[43.86667],\"legendgroup\":\"Apt\",\"lon\":[5.38333],\"marker\":{\"color\":\"#FFA15A\",\"symbol\":\"circle\"},\"mode\":\"markers\",\"name\":\"Apt\",\"showlegend\":true,\"type\":\"scattergeo\"},{\"geo\":\"geo\",\"hovertemplate\":\"name=Arbol Solo<br>reclat=%{lat}<br>reclong=%{lon}<extra></extra>\",\"lat\":[-33.0],\"legendgroup\":\"Arbol Solo\",\"lon\":[-66.0],\"marker\":{\"color\":\"#19d3f3\",\"symbol\":\"circle\"},\"mode\":\"markers\",\"name\":\"Arbol Solo\",\"showlegend\":true,\"type\":\"scattergeo\"},{\"geo\":\"geo\",\"hovertemplate\":\"name=Archie<br>reclat=%{lat}<br>reclong=%{lon}<extra></extra>\",\"lat\":[38.5],\"legendgroup\":\"Archie\",\"lon\":[-94.3],\"marker\":{\"color\":\"#FF6692\",\"symbol\":\"circle\"},\"mode\":\"markers\",\"name\":\"Archie\",\"showlegend\":true,\"type\":\"scattergeo\"},{\"geo\":\"geo\",\"hovertemplate\":\"name=Arroyo Aguiar<br>reclat=%{lat}<br>reclong=%{lon}<extra></extra>\",\"lat\":[-31.41667],\"legendgroup\":\"Arroyo Aguiar\",\"lon\":[-60.66667],\"marker\":{\"color\":\"#B6E880\",\"symbol\":\"circle\"},\"mode\":\"markers\",\"name\":\"Arroyo Aguiar\",\"showlegend\":true,\"type\":\"scattergeo\"},{\"geo\":\"geo\",\"hovertemplate\":\"name=Asco<br>reclat=%{lat}<br>reclong=%{lon}<extra></extra>\",\"lat\":[42.45],\"legendgroup\":\"Asco\",\"lon\":[9.03333],\"marker\":{\"color\":\"#FF97FF\",\"symbol\":\"circle\"},\"mode\":\"markers\",\"name\":\"Asco\",\"showlegend\":true,\"type\":\"scattergeo\"},{\"geo\":\"geo\",\"hovertemplate\":\"name=Ash Creek<br>reclat=%{lat}<br>reclong=%{lon}<extra></extra>\",\"lat\":[31.805],\"legendgroup\":\"Ash Creek\",\"lon\":[-97.01],\"marker\":{\"color\":\"#FECB52\",\"symbol\":\"circle\"},\"mode\":\"markers\",\"name\":\"Ash Creek\",\"showlegend\":true,\"type\":\"scattergeo\"},{\"geo\":\"geo\",\"hovertemplate\":\"name=Ashdon<br>reclat=%{lat}<br>reclong=%{lon}<extra></extra>\",\"lat\":[52.05],\"legendgroup\":\"Ashdon\",\"lon\":[0.3],\"marker\":{\"color\":\"#636efa\",\"symbol\":\"circle\"},\"mode\":\"markers\",\"name\":\"Ashdon\",\"showlegend\":true,\"type\":\"scattergeo\"},{\"geo\":\"geo\",\"hovertemplate\":\"name=Assisi<br>reclat=%{lat}<br>reclong=%{lon}<extra></extra>\",\"lat\":[43.03333],\"legendgroup\":\"Assisi\",\"lon\":[12.55],\"marker\":{\"color\":\"#EF553B\",\"symbol\":\"circle\"},\"mode\":\"markers\",\"name\":\"Assisi\",\"showlegend\":true,\"type\":\"scattergeo\"},{\"geo\":\"geo\",\"hovertemplate\":\"name=Atarra<br>reclat=%{lat}<br>reclong=%{lon}<extra></extra>\",\"lat\":[25.25417],\"legendgroup\":\"Atarra\",\"lon\":[80.625],\"marker\":{\"color\":\"#00cc96\",\"symbol\":\"circle\"},\"mode\":\"markers\",\"name\":\"Atarra\",\"showlegend\":true,\"type\":\"scattergeo\"},{\"geo\":\"geo\",\"hovertemplate\":\"name=Atemajac<br>reclat=%{lat}<br>reclong=%{lon}<extra></extra>\",\"lat\":[20.06667],\"legendgroup\":\"Atemajac\",\"lon\":[-103.66667],\"marker\":{\"color\":\"#ab63fa\",\"symbol\":\"circle\"},\"mode\":\"markers\",\"name\":\"Atemajac\",\"showlegend\":true,\"type\":\"scattergeo\"},{\"geo\":\"geo\",\"hovertemplate\":\"name=Athens<br>reclat=%{lat}<br>reclong=%{lon}<extra></extra>\",\"lat\":[34.75],\"legendgroup\":\"Athens\",\"lon\":[-87.0],\"marker\":{\"color\":\"#FFA15A\",\"symbol\":\"circle\"},\"mode\":\"markers\",\"name\":\"Athens\",\"showlegend\":true,\"type\":\"scattergeo\"},{\"geo\":\"geo\",\"hovertemplate\":\"name=Atoka<br>reclat=%{lat}<br>reclong=%{lon}<extra></extra>\",\"lat\":[34.31667],\"legendgroup\":\"Atoka\",\"lon\":[-96.15],\"marker\":{\"color\":\"#19d3f3\",\"symbol\":\"circle\"},\"mode\":\"markers\",\"name\":\"Atoka\",\"showlegend\":true,\"type\":\"scattergeo\"},{\"geo\":\"geo\",\"hovertemplate\":\"name=Aubres<br>reclat=%{lat}<br>reclong=%{lon}<extra></extra>\",\"lat\":[44.38333],\"legendgroup\":\"Aubres\",\"lon\":[5.16667],\"marker\":{\"color\":\"#FF6692\",\"symbol\":\"circle\"},\"mode\":\"markers\",\"name\":\"Aubres\",\"showlegend\":true,\"type\":\"scattergeo\"},{\"geo\":\"geo\",\"hovertemplate\":\"name=Aumale<br>reclat=%{lat}<br>reclong=%{lon}<extra></extra>\",\"lat\":[36.16667],\"legendgroup\":\"Aumale\",\"lon\":[3.66667],\"marker\":{\"color\":\"#B6E880\",\"symbol\":\"circle\"},\"mode\":\"markers\",\"name\":\"Aumale\",\"showlegend\":true,\"type\":\"scattergeo\"},{\"geo\":\"geo\",\"hovertemplate\":\"name=Aumieres<br>reclat=%{lat}<br>reclong=%{lon}<extra></extra>\",\"lat\":[44.33333],\"legendgroup\":\"Aumieres\",\"lon\":[3.23333],\"marker\":{\"color\":\"#FF97FF\",\"symbol\":\"circle\"},\"mode\":\"markers\",\"name\":\"Aumieres\",\"showlegend\":true,\"type\":\"scattergeo\"},{\"geo\":\"geo\",\"hovertemplate\":\"name=Ausson<br>reclat=%{lat}<br>reclong=%{lon}<extra></extra>\",\"lat\":[43.08333],\"legendgroup\":\"Ausson\",\"lon\":[0.58333],\"marker\":{\"color\":\"#FECB52\",\"symbol\":\"circle\"},\"mode\":\"markers\",\"name\":\"Ausson\",\"showlegend\":true,\"type\":\"scattergeo\"},{\"geo\":\"geo\",\"hovertemplate\":\"name=Avanhandava<br>reclat=%{lat}<br>reclong=%{lon}<extra></extra>\",\"lat\":[-21.46028],\"legendgroup\":\"Avanhandava\",\"lon\":[-49.95083],\"marker\":{\"color\":\"#636efa\",\"symbol\":\"circle\"},\"mode\":\"markers\",\"name\":\"Avanhandava\",\"showlegend\":true,\"type\":\"scattergeo\"},{\"geo\":\"geo\",\"hovertemplate\":\"name=Avce<br>reclat=%{lat}<br>reclong=%{lon}<extra></extra>\",\"lat\":[46.0],\"legendgroup\":\"Avce\",\"lon\":[13.5],\"marker\":{\"color\":\"#EF553B\",\"symbol\":\"circle\"},\"mode\":\"markers\",\"name\":\"Avce\",\"showlegend\":true,\"type\":\"scattergeo\"},{\"geo\":\"geo\",\"hovertemplate\":\"name=Avilez<br>reclat=%{lat}<br>reclong=%{lon}<extra></extra>\",\"lat\":[25.0],\"legendgroup\":\"Avilez\",\"lon\":[-103.5],\"marker\":{\"color\":\"#00cc96\",\"symbol\":\"circle\"},\"mode\":\"markers\",\"name\":\"Avilez\",\"showlegend\":true,\"type\":\"scattergeo\"},{\"geo\":\"geo\",\"hovertemplate\":\"name=Awere<br>reclat=%{lat}<br>reclong=%{lon}<extra></extra>\",\"lat\":[2.71667],\"legendgroup\":\"Awere\",\"lon\":[32.83333],\"marker\":{\"color\":\"#ab63fa\",\"symbol\":\"circle\"},\"mode\":\"markers\",\"name\":\"Awere\",\"showlegend\":true,\"type\":\"scattergeo\"},{\"geo\":\"geo\",\"hovertemplate\":\"name=Aztec<br>reclat=%{lat}<br>reclong=%{lon}<extra></extra>\",\"lat\":[36.8],\"legendgroup\":\"Aztec\",\"lon\":[-108.0],\"marker\":{\"color\":\"#FFA15A\",\"symbol\":\"circle\"},\"mode\":\"markers\",\"name\":\"Aztec\",\"showlegend\":true,\"type\":\"scattergeo\"},{\"geo\":\"geo\",\"hovertemplate\":\"name=Bachmut<br>reclat=%{lat}<br>reclong=%{lon}<extra></extra>\",\"lat\":[48.6],\"legendgroup\":\"Bachmut\",\"lon\":[38.0],\"marker\":{\"color\":\"#19d3f3\",\"symbol\":\"circle\"},\"mode\":\"markers\",\"name\":\"Bachmut\",\"showlegend\":true,\"type\":\"scattergeo\"},{\"geo\":\"geo\",\"hovertemplate\":\"name=Bahjoi<br>reclat=%{lat}<br>reclong=%{lon}<extra></extra>\",\"lat\":[28.48333],\"legendgroup\":\"Bahjoi\",\"lon\":[78.5],\"marker\":{\"color\":\"#FF6692\",\"symbol\":\"circle\"},\"mode\":\"markers\",\"name\":\"Bahjoi\",\"showlegend\":true,\"type\":\"scattergeo\"},{\"geo\":\"geo\",\"hovertemplate\":\"name=Bald Mountain<br>reclat=%{lat}<br>reclong=%{lon}<extra></extra>\",\"lat\":[35.96667],\"legendgroup\":\"Bald Mountain\",\"lon\":[-82.48333],\"marker\":{\"color\":\"#B6E880\",\"symbol\":\"circle\"},\"mode\":\"markers\",\"name\":\"Bald Mountain\",\"showlegend\":true,\"type\":\"scattergeo\"},{\"geo\":\"geo\",\"hovertemplate\":\"name=Baldwyn<br>reclat=%{lat}<br>reclong=%{lon}<extra></extra>\",\"lat\":[34.5],\"legendgroup\":\"Baldwyn\",\"lon\":[-88.66667],\"marker\":{\"color\":\"#FF97FF\",\"symbol\":\"circle\"},\"mode\":\"markers\",\"name\":\"Baldwyn\",\"showlegend\":true,\"type\":\"scattergeo\"},{\"geo\":\"geo\",\"hovertemplate\":\"name=Bali<br>reclat=%{lat}<br>reclong=%{lon}<extra></extra>\",\"lat\":[5.38333],\"legendgroup\":\"Bali\",\"lon\":[16.38333],\"marker\":{\"color\":\"#FECB52\",\"symbol\":\"circle\"},\"mode\":\"markers\",\"name\":\"Bali\",\"showlegend\":true,\"type\":\"scattergeo\"},{\"geo\":\"geo\",\"hovertemplate\":\"name=Ban Rong Du<br>reclat=%{lat}<br>reclong=%{lon}<extra></extra>\",\"lat\":[16.66667],\"legendgroup\":\"Ban Rong Du\",\"lon\":[101.18333],\"marker\":{\"color\":\"#636efa\",\"symbol\":\"circle\"},\"mode\":\"markers\",\"name\":\"Ban Rong Du\",\"showlegend\":true,\"type\":\"scattergeo\"},{\"geo\":\"geo\",\"hovertemplate\":\"name=Bandong<br>reclat=%{lat}<br>reclong=%{lon}<extra></extra>\",\"lat\":[-6.91667],\"legendgroup\":\"Bandong\",\"lon\":[107.6],\"marker\":{\"color\":\"#EF553B\",\"symbol\":\"circle\"},\"mode\":\"markers\",\"name\":\"Bandong\",\"showlegend\":true,\"type\":\"scattergeo\"},{\"geo\":\"geo\",\"hovertemplate\":\"name=Bansur<br>reclat=%{lat}<br>reclong=%{lon}<extra></extra>\",\"lat\":[27.7],\"legendgroup\":\"Bansur\",\"lon\":[76.33333],\"marker\":{\"color\":\"#00cc96\",\"symbol\":\"circle\"},\"mode\":\"markers\",\"name\":\"Bansur\",\"showlegend\":true,\"type\":\"scattergeo\"},{\"geo\":\"geo\",\"hovertemplate\":\"name=Banswal<br>reclat=%{lat}<br>reclong=%{lon}<extra></extra>\",\"lat\":[30.4],\"legendgroup\":\"Banswal\",\"lon\":[78.2],\"marker\":{\"color\":\"#ab63fa\",\"symbol\":\"circle\"},\"mode\":\"markers\",\"name\":\"Banswal\",\"showlegend\":true,\"type\":\"scattergeo\"},{\"geo\":\"geo\",\"hovertemplate\":\"name=Banten<br>reclat=%{lat}<br>reclong=%{lon}<extra></extra>\",\"lat\":[-6.33333],\"legendgroup\":\"Banten\",\"lon\":[106.0],\"marker\":{\"color\":\"#FFA15A\",\"symbol\":\"circle\"},\"mode\":\"markers\",\"name\":\"Banten\",\"showlegend\":true,\"type\":\"scattergeo\"},{\"geo\":\"geo\",\"hovertemplate\":\"name=Barbotan<br>reclat=%{lat}<br>reclong=%{lon}<extra></extra>\",\"lat\":[43.95],\"legendgroup\":\"Barbotan\",\"lon\":[-0.05],\"marker\":{\"color\":\"#19d3f3\",\"symbol\":\"circle\"},\"mode\":\"markers\",\"name\":\"Barbotan\",\"showlegend\":true,\"type\":\"scattergeo\"},{\"geo\":\"geo\",\"hovertemplate\":\"name=Barcelona (stone)<br>reclat=%{lat}<br>reclong=%{lon}<extra></extra>\",\"lat\":[41.36667],\"legendgroup\":\"Barcelona (stone)\",\"lon\":[2.16667],\"marker\":{\"color\":\"#FF6692\",\"symbol\":\"circle\"},\"mode\":\"markers\",\"name\":\"Barcelona (stone)\",\"showlegend\":true,\"type\":\"scattergeo\"},{\"geo\":\"geo\",\"hovertemplate\":\"name=Barea<br>reclat=%{lat}<br>reclong=%{lon}<extra></extra>\",\"lat\":[42.38333],\"legendgroup\":\"Barea\",\"lon\":[-2.5],\"marker\":{\"color\":\"#B6E880\",\"symbol\":\"circle\"},\"mode\":\"markers\",\"name\":\"Barea\",\"showlegend\":true,\"type\":\"scattergeo\"},{\"geo\":\"geo\",\"hovertemplate\":\"name=Barnaul<br>reclat=%{lat}<br>reclong=%{lon}<extra></extra>\",\"lat\":[52.73333],\"legendgroup\":\"Barnaul\",\"lon\":[84.08333],\"marker\":{\"color\":\"#FF97FF\",\"symbol\":\"circle\"},\"mode\":\"markers\",\"name\":\"Barnaul\",\"showlegend\":true,\"type\":\"scattergeo\"},{\"geo\":\"geo\",\"hovertemplate\":\"name=Barntrup<br>reclat=%{lat}<br>reclong=%{lon}<extra></extra>\",\"lat\":[52.0],\"legendgroup\":\"Barntrup\",\"lon\":[9.1],\"marker\":{\"color\":\"#FECB52\",\"symbol\":\"circle\"},\"mode\":\"markers\",\"name\":\"Barntrup\",\"showlegend\":true,\"type\":\"scattergeo\"},{\"geo\":\"geo\",\"hovertemplate\":\"name=Baroti<br>reclat=%{lat}<br>reclong=%{lon}<extra></extra>\",\"lat\":[31.61667],\"legendgroup\":\"Baroti\",\"lon\":[76.8],\"marker\":{\"color\":\"#636efa\",\"symbol\":\"circle\"},\"mode\":\"markers\",\"name\":\"Baroti\",\"showlegend\":true,\"type\":\"scattergeo\"},{\"geo\":\"geo\",\"hovertemplate\":\"name=Barwell<br>reclat=%{lat}<br>reclong=%{lon}<extra></extra>\",\"lat\":[52.56528],\"legendgroup\":\"Barwell\",\"lon\":[-1.33972],\"marker\":{\"color\":\"#EF553B\",\"symbol\":\"circle\"},\"mode\":\"markers\",\"name\":\"Barwell\",\"showlegend\":true,\"type\":\"scattergeo\"},{\"geo\":\"geo\",\"hovertemplate\":\"name=Bassikounou<br>reclat=%{lat}<br>reclong=%{lon}<extra></extra>\",\"lat\":[15.78333],\"legendgroup\":\"Bassikounou\",\"lon\":[-5.9],\"marker\":{\"color\":\"#00cc96\",\"symbol\":\"circle\"},\"mode\":\"markers\",\"name\":\"Bassikounou\",\"showlegend\":true,\"type\":\"scattergeo\"},{\"geo\":\"geo\",\"hovertemplate\":\"name=Baszkówka<br>reclat=%{lat}<br>reclong=%{lon}<extra></extra>\",\"lat\":[52.03333],\"legendgroup\":\"Baszkówka\",\"lon\":[20.93583],\"marker\":{\"color\":\"#ab63fa\",\"symbol\":\"circle\"},\"mode\":\"markers\",\"name\":\"Baszkówka\",\"showlegend\":true,\"type\":\"scattergeo\"},{\"geo\":\"geo\",\"hovertemplate\":\"name=Bath<br>reclat=%{lat}<br>reclong=%{lon}<extra></extra>\",\"lat\":[45.41667],\"legendgroup\":\"Bath\",\"lon\":[-98.31667],\"marker\":{\"color\":\"#FFA15A\",\"symbol\":\"circle\"},\"mode\":\"markers\",\"name\":\"Bath\",\"showlegend\":true,\"type\":\"scattergeo\"},{\"geo\":\"geo\",\"hovertemplate\":\"name=Bath Furnace<br>reclat=%{lat}<br>reclong=%{lon}<extra></extra>\",\"lat\":[38.25],\"legendgroup\":\"Bath Furnace\",\"lon\":[-83.75],\"marker\":{\"color\":\"#19d3f3\",\"symbol\":\"circle\"},\"mode\":\"markers\",\"name\":\"Bath Furnace\",\"showlegend\":true,\"type\":\"scattergeo\"},{\"geo\":\"geo\",\"hovertemplate\":\"name=Battle Mountain<br>reclat=%{lat}<br>reclong=%{lon}<extra></extra>\",\"lat\":[40.66813],\"legendgroup\":\"Battle Mountain\",\"lon\":[-117.18913],\"marker\":{\"color\":\"#FF6692\",\"symbol\":\"circle\"},\"mode\":\"markers\",\"name\":\"Battle Mountain\",\"showlegend\":true,\"type\":\"scattergeo\"},{\"geo\":\"geo\",\"hovertemplate\":\"name=Bawku<br>reclat=%{lat}<br>reclong=%{lon}<extra></extra>\",\"lat\":[11.08333],\"legendgroup\":\"Bawku\",\"lon\":[-0.18333],\"marker\":{\"color\":\"#B6E880\",\"symbol\":\"circle\"},\"mode\":\"markers\",\"name\":\"Bawku\",\"showlegend\":true,\"type\":\"scattergeo\"},{\"geo\":\"geo\",\"hovertemplate\":\"name=Baxter<br>reclat=%{lat}<br>reclong=%{lon}<extra></extra>\",\"lat\":[36.75],\"legendgroup\":\"Baxter\",\"lon\":[-93.5],\"marker\":{\"color\":\"#FF97FF\",\"symbol\":\"circle\"},\"mode\":\"markers\",\"name\":\"Baxter\",\"showlegend\":true,\"type\":\"scattergeo\"},{\"geo\":\"geo\",\"hovertemplate\":\"name=Beardsley<br>reclat=%{lat}<br>reclong=%{lon}<extra></extra>\",\"lat\":[39.8],\"legendgroup\":\"Beardsley\",\"lon\":[-101.2],\"marker\":{\"color\":\"#FECB52\",\"symbol\":\"circle\"},\"mode\":\"markers\",\"name\":\"Beardsley\",\"showlegend\":true,\"type\":\"scattergeo\"},{\"geo\":\"geo\",\"hovertemplate\":\"name=Beaver Creek<br>reclat=%{lat}<br>reclong=%{lon}<extra></extra>\",\"lat\":[51.16667],\"legendgroup\":\"Beaver Creek\",\"lon\":[-117.33333],\"marker\":{\"color\":\"#636efa\",\"symbol\":\"circle\"},\"mode\":\"markers\",\"name\":\"Beaver Creek\",\"showlegend\":true,\"type\":\"scattergeo\"},{\"geo\":\"geo\",\"hovertemplate\":\"name=Beddgelert<br>reclat=%{lat}<br>reclong=%{lon}<extra></extra>\",\"lat\":[53.01667],\"legendgroup\":\"Beddgelert\",\"lon\":[-4.1],\"marker\":{\"color\":\"#EF553B\",\"symbol\":\"circle\"},\"mode\":\"markers\",\"name\":\"Beddgelert\",\"showlegend\":true,\"type\":\"scattergeo\"},{\"geo\":\"geo\",\"hovertemplate\":\"name=Bells<br>reclat=%{lat}<br>reclong=%{lon}<extra></extra>\",\"lat\":[33.6],\"legendgroup\":\"Bells\",\"lon\":[-96.46667],\"marker\":{\"color\":\"#00cc96\",\"symbol\":\"circle\"},\"mode\":\"markers\",\"name\":\"Bells\",\"showlegend\":true,\"type\":\"scattergeo\"},{\"geo\":\"geo\",\"hovertemplate\":\"name=Belville<br>reclat=%{lat}<br>reclong=%{lon}<extra></extra>\",\"lat\":[-32.33333],\"legendgroup\":\"Belville\",\"lon\":[-64.86667],\"marker\":{\"color\":\"#ab63fa\",\"symbol\":\"circle\"},\"mode\":\"markers\",\"name\":\"Belville\",\"showlegend\":true,\"type\":\"scattergeo\"},{\"geo\":\"geo\",\"hovertemplate\":\"name=Benares (a)<br>reclat=%{lat}<br>reclong=%{lon}<extra></extra>\",\"lat\":[25.36667],\"legendgroup\":\"Benares (a)\",\"lon\":[82.91667],\"marker\":{\"color\":\"#FFA15A\",\"symbol\":\"circle\"},\"mode\":\"markers\",\"name\":\"Benares (a)\",\"showlegend\":true,\"type\":\"scattergeo\"},{\"geo\":\"geo\",\"hovertemplate\":\"name=Benguerir<br>reclat=%{lat}<br>reclong=%{lon}<extra></extra>\",\"lat\":[32.25],\"legendgroup\":\"Benguerir\",\"lon\":[-8.15],\"marker\":{\"color\":\"#19d3f3\",\"symbol\":\"circle\"},\"mode\":\"markers\",\"name\":\"Benguerir\",\"showlegend\":true,\"type\":\"scattergeo\"},{\"geo\":\"geo\",\"hovertemplate\":\"name=Beni M'hira<br>reclat=%{lat}<br>reclong=%{lon}<extra></extra>\",\"lat\":[32.86667],\"legendgroup\":\"Beni M'hira\",\"lon\":[10.8],\"marker\":{\"color\":\"#FF6692\",\"symbol\":\"circle\"},\"mode\":\"markers\",\"name\":\"Beni M'hira\",\"showlegend\":true,\"type\":\"scattergeo\"},{\"geo\":\"geo\",\"hovertemplate\":\"name=Benld<br>reclat=%{lat}<br>reclong=%{lon}<extra></extra>\",\"lat\":[39.08333],\"legendgroup\":\"Benld\",\"lon\":[-89.15],\"marker\":{\"color\":\"#B6E880\",\"symbol\":\"circle\"},\"mode\":\"markers\",\"name\":\"Benld\",\"showlegend\":true,\"type\":\"scattergeo\"},{\"geo\":\"geo\",\"hovertemplate\":\"name=Benoni<br>reclat=%{lat}<br>reclong=%{lon}<extra></extra>\",\"lat\":[-26.16667],\"legendgroup\":\"Benoni\",\"lon\":[28.41667],\"marker\":{\"color\":\"#FF97FF\",\"symbol\":\"circle\"},\"mode\":\"markers\",\"name\":\"Benoni\",\"showlegend\":true,\"type\":\"scattergeo\"},{\"geo\":\"geo\",\"hovertemplate\":\"name=Bensour<br>reclat=%{lat}<br>reclong=%{lon}<extra></extra>\",\"lat\":[30.0],\"legendgroup\":\"Bensour\",\"lon\":[-7.0],\"marker\":{\"color\":\"#FECB52\",\"symbol\":\"circle\"},\"mode\":\"markers\",\"name\":\"Bensour\",\"showlegend\":true,\"type\":\"scattergeo\"}],                        {\"template\":{\"data\":{\"histogram2dcontour\":[{\"type\":\"histogram2dcontour\",\"colorbar\":{\"outlinewidth\":0,\"ticks\":\"\"},\"colorscale\":[[0.0,\"#0d0887\"],[0.1111111111111111,\"#46039f\"],[0.2222222222222222,\"#7201a8\"],[0.3333333333333333,\"#9c179e\"],[0.4444444444444444,\"#bd3786\"],[0.5555555555555556,\"#d8576b\"],[0.6666666666666666,\"#ed7953\"],[0.7777777777777778,\"#fb9f3a\"],[0.8888888888888888,\"#fdca26\"],[1.0,\"#f0f921\"]]}],\"choropleth\":[{\"type\":\"choropleth\",\"colorbar\":{\"outlinewidth\":0,\"ticks\":\"\"}}],\"histogram2d\":[{\"type\":\"histogram2d\",\"colorbar\":{\"outlinewidth\":0,\"ticks\":\"\"},\"colorscale\":[[0.0,\"#0d0887\"],[0.1111111111111111,\"#46039f\"],[0.2222222222222222,\"#7201a8\"],[0.3333333333333333,\"#9c179e\"],[0.4444444444444444,\"#bd3786\"],[0.5555555555555556,\"#d8576b\"],[0.6666666666666666,\"#ed7953\"],[0.7777777777777778,\"#fb9f3a\"],[0.8888888888888888,\"#fdca26\"],[1.0,\"#f0f921\"]]}],\"heatmap\":[{\"type\":\"heatmap\",\"colorbar\":{\"outlinewidth\":0,\"ticks\":\"\"},\"colorscale\":[[0.0,\"#0d0887\"],[0.1111111111111111,\"#46039f\"],[0.2222222222222222,\"#7201a8\"],[0.3333333333333333,\"#9c179e\"],[0.4444444444444444,\"#bd3786\"],[0.5555555555555556,\"#d8576b\"],[0.6666666666666666,\"#ed7953\"],[0.7777777777777778,\"#fb9f3a\"],[0.8888888888888888,\"#fdca26\"],[1.0,\"#f0f921\"]]}],\"heatmapgl\":[{\"type\":\"heatmapgl\",\"colorbar\":{\"outlinewidth\":0,\"ticks\":\"\"},\"colorscale\":[[0.0,\"#0d0887\"],[0.1111111111111111,\"#46039f\"],[0.2222222222222222,\"#7201a8\"],[0.3333333333333333,\"#9c179e\"],[0.4444444444444444,\"#bd3786\"],[0.5555555555555556,\"#d8576b\"],[0.6666666666666666,\"#ed7953\"],[0.7777777777777778,\"#fb9f3a\"],[0.8888888888888888,\"#fdca26\"],[1.0,\"#f0f921\"]]}],\"contourcarpet\":[{\"type\":\"contourcarpet\",\"colorbar\":{\"outlinewidth\":0,\"ticks\":\"\"}}],\"contour\":[{\"type\":\"contour\",\"colorbar\":{\"outlinewidth\":0,\"ticks\":\"\"},\"colorscale\":[[0.0,\"#0d0887\"],[0.1111111111111111,\"#46039f\"],[0.2222222222222222,\"#7201a8\"],[0.3333333333333333,\"#9c179e\"],[0.4444444444444444,\"#bd3786\"],[0.5555555555555556,\"#d8576b\"],[0.6666666666666666,\"#ed7953\"],[0.7777777777777778,\"#fb9f3a\"],[0.8888888888888888,\"#fdca26\"],[1.0,\"#f0f921\"]]}],\"surface\":[{\"type\":\"surface\",\"colorbar\":{\"outlinewidth\":0,\"ticks\":\"\"},\"colorscale\":[[0.0,\"#0d0887\"],[0.1111111111111111,\"#46039f\"],[0.2222222222222222,\"#7201a8\"],[0.3333333333333333,\"#9c179e\"],[0.4444444444444444,\"#bd3786\"],[0.5555555555555556,\"#d8576b\"],[0.6666666666666666,\"#ed7953\"],[0.7777777777777778,\"#fb9f3a\"],[0.8888888888888888,\"#fdca26\"],[1.0,\"#f0f921\"]]}],\"mesh3d\":[{\"type\":\"mesh3d\",\"colorbar\":{\"outlinewidth\":0,\"ticks\":\"\"}}],\"scatter\":[{\"fillpattern\":{\"fillmode\":\"overlay\",\"size\":10,\"solidity\":0.2},\"type\":\"scatter\"}],\"parcoords\":[{\"type\":\"parcoords\",\"line\":{\"colorbar\":{\"outlinewidth\":0,\"ticks\":\"\"}}}],\"scatterpolargl\":[{\"type\":\"scatterpolargl\",\"marker\":{\"colorbar\":{\"outlinewidth\":0,\"ticks\":\"\"}}}],\"bar\":[{\"error_x\":{\"color\":\"#2a3f5f\"},\"error_y\":{\"color\":\"#2a3f5f\"},\"marker\":{\"line\":{\"color\":\"#E5ECF6\",\"width\":0.5},\"pattern\":{\"fillmode\":\"overlay\",\"size\":10,\"solidity\":0.2}},\"type\":\"bar\"}],\"scattergeo\":[{\"type\":\"scattergeo\",\"marker\":{\"colorbar\":{\"outlinewidth\":0,\"ticks\":\"\"}}}],\"scatterpolar\":[{\"type\":\"scatterpolar\",\"marker\":{\"colorbar\":{\"outlinewidth\":0,\"ticks\":\"\"}}}],\"histogram\":[{\"marker\":{\"pattern\":{\"fillmode\":\"overlay\",\"size\":10,\"solidity\":0.2}},\"type\":\"histogram\"}],\"scattergl\":[{\"type\":\"scattergl\",\"marker\":{\"colorbar\":{\"outlinewidth\":0,\"ticks\":\"\"}}}],\"scatter3d\":[{\"type\":\"scatter3d\",\"line\":{\"colorbar\":{\"outlinewidth\":0,\"ticks\":\"\"}},\"marker\":{\"colorbar\":{\"outlinewidth\":0,\"ticks\":\"\"}}}],\"scattermapbox\":[{\"type\":\"scattermapbox\",\"marker\":{\"colorbar\":{\"outlinewidth\":0,\"ticks\":\"\"}}}],\"scatterternary\":[{\"type\":\"scatterternary\",\"marker\":{\"colorbar\":{\"outlinewidth\":0,\"ticks\":\"\"}}}],\"scattercarpet\":[{\"type\":\"scattercarpet\",\"marker\":{\"colorbar\":{\"outlinewidth\":0,\"ticks\":\"\"}}}],\"carpet\":[{\"aaxis\":{\"endlinecolor\":\"#2a3f5f\",\"gridcolor\":\"white\",\"linecolor\":\"white\",\"minorgridcolor\":\"white\",\"startlinecolor\":\"#2a3f5f\"},\"baxis\":{\"endlinecolor\":\"#2a3f5f\",\"gridcolor\":\"white\",\"linecolor\":\"white\",\"minorgridcolor\":\"white\",\"startlinecolor\":\"#2a3f5f\"},\"type\":\"carpet\"}],\"table\":[{\"cells\":{\"fill\":{\"color\":\"#EBF0F8\"},\"line\":{\"color\":\"white\"}},\"header\":{\"fill\":{\"color\":\"#C8D4E3\"},\"line\":{\"color\":\"white\"}},\"type\":\"table\"}],\"barpolar\":[{\"marker\":{\"line\":{\"color\":\"#E5ECF6\",\"width\":0.5},\"pattern\":{\"fillmode\":\"overlay\",\"size\":10,\"solidity\":0.2}},\"type\":\"barpolar\"}],\"pie\":[{\"automargin\":true,\"type\":\"pie\"}]},\"layout\":{\"autotypenumbers\":\"strict\",\"colorway\":[\"#636efa\",\"#EF553B\",\"#00cc96\",\"#ab63fa\",\"#FFA15A\",\"#19d3f3\",\"#FF6692\",\"#B6E880\",\"#FF97FF\",\"#FECB52\"],\"font\":{\"color\":\"#2a3f5f\"},\"hovermode\":\"closest\",\"hoverlabel\":{\"align\":\"left\"},\"paper_bgcolor\":\"white\",\"plot_bgcolor\":\"#E5ECF6\",\"polar\":{\"bgcolor\":\"#E5ECF6\",\"angularaxis\":{\"gridcolor\":\"white\",\"linecolor\":\"white\",\"ticks\":\"\"},\"radialaxis\":{\"gridcolor\":\"white\",\"linecolor\":\"white\",\"ticks\":\"\"}},\"ternary\":{\"bgcolor\":\"#E5ECF6\",\"aaxis\":{\"gridcolor\":\"white\",\"linecolor\":\"white\",\"ticks\":\"\"},\"baxis\":{\"gridcolor\":\"white\",\"linecolor\":\"white\",\"ticks\":\"\"},\"caxis\":{\"gridcolor\":\"white\",\"linecolor\":\"white\",\"ticks\":\"\"}},\"coloraxis\":{\"colorbar\":{\"outlinewidth\":0,\"ticks\":\"\"}},\"colorscale\":{\"sequential\":[[0.0,\"#0d0887\"],[0.1111111111111111,\"#46039f\"],[0.2222222222222222,\"#7201a8\"],[0.3333333333333333,\"#9c179e\"],[0.4444444444444444,\"#bd3786\"],[0.5555555555555556,\"#d8576b\"],[0.6666666666666666,\"#ed7953\"],[0.7777777777777778,\"#fb9f3a\"],[0.8888888888888888,\"#fdca26\"],[1.0,\"#f0f921\"]],\"sequentialminus\":[[0.0,\"#0d0887\"],[0.1111111111111111,\"#46039f\"],[0.2222222222222222,\"#7201a8\"],[0.3333333333333333,\"#9c179e\"],[0.4444444444444444,\"#bd3786\"],[0.5555555555555556,\"#d8576b\"],[0.6666666666666666,\"#ed7953\"],[0.7777777777777778,\"#fb9f3a\"],[0.8888888888888888,\"#fdca26\"],[1.0,\"#f0f921\"]],\"diverging\":[[0,\"#8e0152\"],[0.1,\"#c51b7d\"],[0.2,\"#de77ae\"],[0.3,\"#f1b6da\"],[0.4,\"#fde0ef\"],[0.5,\"#f7f7f7\"],[0.6,\"#e6f5d0\"],[0.7,\"#b8e186\"],[0.8,\"#7fbc41\"],[0.9,\"#4d9221\"],[1,\"#276419\"]]},\"xaxis\":{\"gridcolor\":\"white\",\"linecolor\":\"white\",\"ticks\":\"\",\"title\":{\"standoff\":15},\"zerolinecolor\":\"white\",\"automargin\":true,\"zerolinewidth\":2},\"yaxis\":{\"gridcolor\":\"white\",\"linecolor\":\"white\",\"ticks\":\"\",\"title\":{\"standoff\":15},\"zerolinecolor\":\"white\",\"automargin\":true,\"zerolinewidth\":2},\"scene\":{\"xaxis\":{\"backgroundcolor\":\"#E5ECF6\",\"gridcolor\":\"white\",\"linecolor\":\"white\",\"showbackground\":true,\"ticks\":\"\",\"zerolinecolor\":\"white\",\"gridwidth\":2},\"yaxis\":{\"backgroundcolor\":\"#E5ECF6\",\"gridcolor\":\"white\",\"linecolor\":\"white\",\"showbackground\":true,\"ticks\":\"\",\"zerolinecolor\":\"white\",\"gridwidth\":2},\"zaxis\":{\"backgroundcolor\":\"#E5ECF6\",\"gridcolor\":\"white\",\"linecolor\":\"white\",\"showbackground\":true,\"ticks\":\"\",\"zerolinecolor\":\"white\",\"gridwidth\":2}},\"shapedefaults\":{\"line\":{\"color\":\"#2a3f5f\"}},\"annotationdefaults\":{\"arrowcolor\":\"#2a3f5f\",\"arrowhead\":0,\"arrowwidth\":1},\"geo\":{\"bgcolor\":\"white\",\"landcolor\":\"#E5ECF6\",\"subunitcolor\":\"white\",\"showland\":true,\"showlakes\":true,\"lakecolor\":\"white\"},\"title\":{\"x\":0.05},\"mapbox\":{\"style\":\"light\"}}},\"geo\":{\"domain\":{\"x\":[0.0,1.0],\"y\":[0.0,1.0]},\"center\":{}},\"legend\":{\"title\":{\"text\":\"name\"},\"tracegroupgap\":0},\"margin\":{\"t\":60},\"title\":{\"text\":\"Countries\",\"x\":0.5}},                        {\"responsive\": true}                    ).then(function(){\n",
       "                            \n",
       "var gd = document.getElementById('b49fd788-24d1-452b-a21f-12affa0fb33c');\n",
       "var x = new MutationObserver(function (mutations, observer) {{\n",
       "        var display = window.getComputedStyle(gd).display;\n",
       "        if (!display || display === 'none') {{\n",
       "            console.log([gd, 'removed!']);\n",
       "            Plotly.purge(gd);\n",
       "            observer.disconnect();\n",
       "        }}\n",
       "}});\n",
       "\n",
       "// Listen for the removal of the full notebook cells\n",
       "var notebookContainer = gd.closest('#notebook-container');\n",
       "if (notebookContainer) {{\n",
       "    x.observe(notebookContainer, {childList: true});\n",
       "}}\n",
       "\n",
       "// Listen for the clearing of the current output cell\n",
       "var outputEl = gd.closest('.output');\n",
       "if (outputEl) {{\n",
       "    x.observe(outputEl, {childList: true});\n",
       "}}\n",
       "\n",
       "                        })                };                });            </script>        </div>"
      ]
     },
     "metadata": {},
     "output_type": "display_data"
    }
   ],
   "source": [
    "import plotly.express as px\n",
    "# plotting map using plotly\n",
    "fig = px.scatter_geo(data.head(100), lat = 'reclat', lon = 'reclong', color = 'name')\n",
    "\n",
    "# setting title for the map\n",
    "fig.update_layout(title = 'Countries', title_x = 0.5)\n"
   ]
  },
  {
   "cell_type": "code",
   "execution_count": 10,
   "id": "064d5261",
   "metadata": {
    "execution": {
     "iopub.execute_input": "2023-06-13T15:20:31.340189Z",
     "iopub.status.busy": "2023-06-13T15:20:31.339828Z",
     "iopub.status.idle": "2023-06-13T15:20:31.344437Z",
     "shell.execute_reply": "2023-06-13T15:20:31.343202Z"
    },
    "papermill": {
     "duration": 0.015738,
     "end_time": "2023-06-13T15:20:31.346375",
     "exception": false,
     "start_time": "2023-06-13T15:20:31.330637",
     "status": "completed"
    },
    "tags": []
   },
   "outputs": [],
   "source": [
    "df=data"
   ]
  },
  {
   "cell_type": "code",
   "execution_count": 11,
   "id": "bee43660",
   "metadata": {
    "execution": {
     "iopub.execute_input": "2023-06-13T15:20:31.363690Z",
     "iopub.status.busy": "2023-06-13T15:20:31.363054Z",
     "iopub.status.idle": "2023-06-13T15:20:31.408894Z",
     "shell.execute_reply": "2023-06-13T15:20:31.407562Z"
    },
    "papermill": {
     "duration": 0.056953,
     "end_time": "2023-06-13T15:20:31.411232",
     "exception": false,
     "start_time": "2023-06-13T15:20:31.354279",
     "status": "completed"
    },
    "tags": []
   },
   "outputs": [],
   "source": [
    "df[df[\"reclong\"]>180]=np.NAN\n",
    "df[df[\"reclat\"]>180]=np.NAN\n",
    "df=df.dropna()"
   ]
  },
  {
   "cell_type": "code",
   "execution_count": 12,
   "id": "45ba79b1",
   "metadata": {
    "execution": {
     "iopub.execute_input": "2023-06-13T15:20:31.428783Z",
     "iopub.status.busy": "2023-06-13T15:20:31.428428Z",
     "iopub.status.idle": "2023-06-13T15:20:31.461849Z",
     "shell.execute_reply": "2023-06-13T15:20:31.460633Z"
    },
    "papermill": {
     "duration": 0.044482,
     "end_time": "2023-06-13T15:20:31.463929",
     "exception": false,
     "start_time": "2023-06-13T15:20:31.419447",
     "status": "completed"
    },
    "tags": []
   },
   "outputs": [
    {
     "data": {
      "text/plain": [
       "name           0\n",
       "id             0\n",
       "nametype       0\n",
       "recclass       0\n",
       "mass           0\n",
       "fall           0\n",
       "year           0\n",
       "reclat         0\n",
       "reclong        0\n",
       "GeoLocation    0\n",
       "dtype: int64"
      ]
     },
     "execution_count": 12,
     "metadata": {},
     "output_type": "execute_result"
    }
   ],
   "source": [
    "df.isna().sum()"
   ]
  },
  {
   "cell_type": "code",
   "execution_count": 13,
   "id": "2fd74f78",
   "metadata": {
    "execution": {
     "iopub.execute_input": "2023-06-13T15:20:31.481011Z",
     "iopub.status.busy": "2023-06-13T15:20:31.480652Z",
     "iopub.status.idle": "2023-06-13T15:20:31.693650Z",
     "shell.execute_reply": "2023-06-13T15:20:31.692763Z"
    },
    "papermill": {
     "duration": 0.223902,
     "end_time": "2023-06-13T15:20:31.695586",
     "exception": false,
     "start_time": "2023-06-13T15:20:31.471684",
     "status": "completed"
    },
    "tags": []
   },
   "outputs": [
    {
     "data": {
      "text/plain": [
       "<Axes: >"
      ]
     },
     "execution_count": 13,
     "metadata": {},
     "output_type": "execute_result"
    },
    {
     "data": {
      "image/png": "[encoded data removed]",
      "text/plain": [
       "<Figure size 640x480 with 1 Axes>"
      ]
     },
     "metadata": {},
     "output_type": "display_data"
    }
   ],
   "source": [
    "north_east  = df[(df['reclat'] >0) & (df['reclong'] >0)].shape[0]\n",
    "north_west = df[(df['reclat'] >0) &(df['reclong'] <0)].shape[0]\n",
    "south_east  = df[(df['reclat'] <0) &(df['reclong'] >0)].shape[0]\n",
    "south_west  = df[(df['reclat'] <0) &(df['reclong'] <0)].shape[0]\n",
    "pd.Series([north_east,north_west,south_east,south_west], index = ['north_east','north_west','south_east','south_west']).plot.pie(explode=(0, 0, 0.10,  0), autopct='%1.1f%%')"
   ]
  },
  {
   "cell_type": "code",
   "execution_count": 14,
   "id": "f8add070",
   "metadata": {
    "execution": {
     "iopub.execute_input": "2023-06-13T15:20:31.717780Z",
     "iopub.status.busy": "2023-06-13T15:20:31.717455Z",
     "iopub.status.idle": "2023-06-13T15:20:31.726225Z",
     "shell.execute_reply": "2023-06-13T15:20:31.725441Z"
    },
    "papermill": {
     "duration": 0.021873,
     "end_time": "2023-06-13T15:20:31.727867",
     "exception": false,
     "start_time": "2023-06-13T15:20:31.705994",
     "status": "completed"
    },
    "tags": []
   },
   "outputs": [
    {
     "data": {
      "text/plain": [
       "427"
      ]
     },
     "execution_count": 14,
     "metadata": {},
     "output_type": "execute_result"
    }
   ],
   "source": [
    "df[\"recclass\"].nunique()"
   ]
  },
  {
   "cell_type": "code",
   "execution_count": 15,
   "id": "2c46ba29",
   "metadata": {
    "execution": {
     "iopub.execute_input": "2023-06-13T15:20:31.745047Z",
     "iopub.status.busy": "2023-06-13T15:20:31.744733Z",
     "iopub.status.idle": "2023-06-13T15:20:31.755587Z",
     "shell.execute_reply": "2023-06-13T15:20:31.754769Z"
    },
    "papermill": {
     "duration": 0.021481,
     "end_time": "2023-06-13T15:20:31.757196",
     "exception": false,
     "start_time": "2023-06-13T15:20:31.735715",
     "status": "completed"
    },
    "tags": []
   },
   "outputs": [
    {
     "data": {
      "text/plain": [
       "recclass\n",
       "Acapulcoite               38\n",
       "Acapulcoite/Lodranite      5\n",
       "Acapulcoite/lodranite      2\n",
       "Achondrite-prim            3\n",
       "Achondrite-ung            37\n",
       "                        ... \n",
       "Unknown                    5\n",
       "Ureilite                 214\n",
       "Ureilite-an                3\n",
       "Ureilite-pmict            18\n",
       "Winonaite                 18\n",
       "Length: 427, dtype: int64"
      ]
     },
     "execution_count": 15,
     "metadata": {},
     "output_type": "execute_result"
    }
   ],
   "source": [
    "df.groupby('recclass').size()"
   ]
  },
  {
   "cell_type": "code",
   "execution_count": 16,
   "id": "6aa1f50f",
   "metadata": {
    "execution": {
     "iopub.execute_input": "2023-06-13T15:20:31.774920Z",
     "iopub.status.busy": "2023-06-13T15:20:31.774376Z",
     "iopub.status.idle": "2023-06-13T15:20:31.781394Z",
     "shell.execute_reply": "2023-06-13T15:20:31.780762Z"
    },
    "papermill": {
     "duration": 0.017922,
     "end_time": "2023-06-13T15:20:31.783162",
     "exception": false,
     "start_time": "2023-06-13T15:20:31.765240",
     "status": "completed"
    },
    "tags": []
   },
   "outputs": [],
   "source": [
    "df=df.drop(\"GeoLocation\",axis=1)"
   ]
  },
  {
   "cell_type": "code",
   "execution_count": 17,
   "id": "e7456417",
   "metadata": {
    "execution": {
     "iopub.execute_input": "2023-06-13T15:20:31.800940Z",
     "iopub.status.busy": "2023-06-13T15:20:31.800412Z",
     "iopub.status.idle": "2023-06-13T15:20:31.816545Z",
     "shell.execute_reply": "2023-06-13T15:20:31.815663Z"
    },
    "papermill": {
     "duration": 0.02718,
     "end_time": "2023-06-13T15:20:31.818562",
     "exception": false,
     "start_time": "2023-06-13T15:20:31.791382",
     "status": "completed"
    },
    "tags": []
   },
   "outputs": [
    {
     "name": "stdout",
     "output_type": "stream",
     "text": [
      "             name       id nametype              recclass      mass   fall  \\\n",
      "0          Aachen      1.0    Valid                    L5      21.0   Fell   \n",
      "1          Aarhus      2.0    Valid                    H6     720.0   Fell   \n",
      "2            Abee      6.0    Valid                   EH4  107000.0   Fell   \n",
      "3        Acapulco     10.0    Valid           Acapulcoite    1914.0   Fell   \n",
      "4         Achiras    370.0    Valid                    L6     780.0   Fell   \n",
      "...           ...      ...      ...                   ...       ...    ...   \n",
      "45711  Zillah 002  31356.0    Valid               Eucrite     172.0  Found   \n",
      "45712      Zinder  30409.0    Valid  Pallasite, ungrouped      46.0  Found   \n",
      "45713        Zlin  30410.0    Valid                    H4       3.3  Found   \n",
      "45714   Zubkovsky  31357.0    Valid                    L6    2167.0  Found   \n",
      "45715  Zulu Queen  30414.0    Valid                  L3.7     200.0  Found   \n",
      "\n",
      "         year    reclat    reclong      region  \n",
      "0      1880.0  50.77500    6.08333  north_east  \n",
      "1      1951.0  56.18333   10.23333  north_east  \n",
      "2      1952.0  54.21667 -113.00000  north_west  \n",
      "3      1976.0  16.88333  -99.90000  north_west  \n",
      "4      1902.0 -33.16667  -64.95000  south_west  \n",
      "...       ...       ...        ...         ...  \n",
      "45711  1990.0  29.03700   17.01850  north_east  \n",
      "45712  1999.0  13.78333    8.96667  north_east  \n",
      "45713  1939.0  49.25000   17.66667  north_east  \n",
      "45714  2003.0  49.78917   41.50460  north_east  \n",
      "45715  1976.0  33.98333 -115.68333  north_west  \n",
      "\n",
      "[38400 rows x 10 columns]\n"
     ]
    }
   ],
   "source": [
    "df['region'] = ''\n",
    "\n",
    "# Assign the region based on the 'reclat' and 'reclong' values\n",
    "df.loc[(df['reclat'] > 0) & (df['reclong'] > 0), 'region'] = 'north_east'\n",
    "df.loc[(df['reclat'] > 0) & (df['reclong'] < 0), 'region'] = 'north_west'\n",
    "df.loc[(df['reclat'] < 0) & (df['reclong'] > 0), 'region'] = 'south_east'\n",
    "df.loc[(df['reclat'] < 0) & (df['reclong'] < 0), 'region'] = 'south_west'\n",
    "\n",
    "# Print the updated DataFrame\n",
    "print(df)"
   ]
  },
  {
   "cell_type": "code",
   "execution_count": 18,
   "id": "3319e35f",
   "metadata": {
    "execution": {
     "iopub.execute_input": "2023-06-13T15:20:31.836068Z",
     "iopub.status.busy": "2023-06-13T15:20:31.835769Z",
     "iopub.status.idle": "2023-06-13T15:20:31.842675Z",
     "shell.execute_reply": "2023-06-13T15:20:31.841832Z"
    },
    "papermill": {
     "duration": 0.018265,
     "end_time": "2023-06-13T15:20:31.845060",
     "exception": false,
     "start_time": "2023-06-13T15:20:31.826795",
     "status": "completed"
    },
    "tags": []
   },
   "outputs": [],
   "source": [
    "df[\"region\"]=df[\"region\"].replace('',\"center\")"
   ]
  },
  {
   "cell_type": "code",
   "execution_count": 19,
   "id": "e9865402",
   "metadata": {
    "execution": {
     "iopub.execute_input": "2023-06-13T15:20:31.863732Z",
     "iopub.status.busy": "2023-06-13T15:20:31.863404Z",
     "iopub.status.idle": "2023-06-13T15:20:31.871962Z",
     "shell.execute_reply": "2023-06-13T15:20:31.870922Z"
    },
    "papermill": {
     "duration": 0.020451,
     "end_time": "2023-06-13T15:20:31.874172",
     "exception": false,
     "start_time": "2023-06-13T15:20:31.853721",
     "status": "completed"
    },
    "tags": []
   },
   "outputs": [
    {
     "data": {
      "text/plain": [
       "array(['north_east', 'north_west', 'south_west', 'center', 'south_east'],\n",
       "      dtype=object)"
      ]
     },
     "execution_count": 19,
     "metadata": {},
     "output_type": "execute_result"
    }
   ],
   "source": [
    "df[\"region\"].unique()"
   ]
  },
  {
   "cell_type": "code",
   "execution_count": 20,
   "id": "d040309d",
   "metadata": {
    "execution": {
     "iopub.execute_input": "2023-06-13T15:20:31.893059Z",
     "iopub.status.busy": "2023-06-13T15:20:31.892469Z",
     "iopub.status.idle": "2023-06-13T15:20:31.904046Z",
     "shell.execute_reply": "2023-06-13T15:20:31.902613Z"
    },
    "papermill": {
     "duration": 0.023449,
     "end_time": "2023-06-13T15:20:31.906419",
     "exception": false,
     "start_time": "2023-06-13T15:20:31.882970",
     "status": "completed"
    },
    "tags": []
   },
   "outputs": [],
   "source": [
    "df=df.drop(\"reclat\",axis=1)\n",
    "df=df.drop(\"reclong\",axis=1)"
   ]
  },
  {
   "cell_type": "code",
   "execution_count": 21,
   "id": "00b8de1f",
   "metadata": {
    "execution": {
     "iopub.execute_input": "2023-06-13T15:20:31.924963Z",
     "iopub.status.busy": "2023-06-13T15:20:31.924613Z",
     "iopub.status.idle": "2023-06-13T15:20:31.934554Z",
     "shell.execute_reply": "2023-06-13T15:20:31.933673Z"
    },
    "papermill": {
     "duration": 0.021611,
     "end_time": "2023-06-13T15:20:31.936629",
     "exception": false,
     "start_time": "2023-06-13T15:20:31.915018",
     "status": "completed"
    },
    "tags": []
   },
   "outputs": [],
   "source": [
    "df=df.drop(\"name\",axis=1)\n",
    "df=df.drop(\"recclass\",axis=1)"
   ]
  },
  {
   "cell_type": "code",
   "execution_count": 22,
   "id": "8bda4eb0",
   "metadata": {
    "execution": {
     "iopub.execute_input": "2023-06-13T15:20:31.955965Z",
     "iopub.status.busy": "2023-06-13T15:20:31.955075Z",
     "iopub.status.idle": "2023-06-13T15:20:31.961741Z",
     "shell.execute_reply": "2023-06-13T15:20:31.960578Z"
    },
    "papermill": {
     "duration": 0.018528,
     "end_time": "2023-06-13T15:20:31.963883",
     "exception": false,
     "start_time": "2023-06-13T15:20:31.945355",
     "status": "completed"
    },
    "tags": []
   },
   "outputs": [],
   "source": [
    "df=df.drop(\"nametype\",axis=1)\n"
   ]
  },
  {
   "cell_type": "code",
   "execution_count": 23,
   "id": "419f4d9d",
   "metadata": {
    "execution": {
     "iopub.execute_input": "2023-06-13T15:20:31.982529Z",
     "iopub.status.busy": "2023-06-13T15:20:31.981913Z",
     "iopub.status.idle": "2023-06-13T15:20:31.988600Z",
     "shell.execute_reply": "2023-06-13T15:20:31.987690Z"
    },
    "papermill": {
     "duration": 0.018091,
     "end_time": "2023-06-13T15:20:31.990533",
     "exception": false,
     "start_time": "2023-06-13T15:20:31.972442",
     "status": "completed"
    },
    "tags": []
   },
   "outputs": [],
   "source": [
    "df=df.drop(\"id\",axis=1)"
   ]
  },
  {
   "cell_type": "code",
   "execution_count": 24,
   "id": "41234004",
   "metadata": {
    "execution": {
     "iopub.execute_input": "2023-06-13T15:20:32.010352Z",
     "iopub.status.busy": "2023-06-13T15:20:32.009976Z",
     "iopub.status.idle": "2023-06-13T15:20:32.021056Z",
     "shell.execute_reply": "2023-06-13T15:20:32.020158Z"
    },
    "papermill": {
     "duration": 0.024248,
     "end_time": "2023-06-13T15:20:32.023574",
     "exception": false,
     "start_time": "2023-06-13T15:20:31.999326",
     "status": "completed"
    },
    "tags": []
   },
   "outputs": [
    {
     "data": {
      "text/html": [
       "<div>\n",
       "<style scoped>\n",
       "    .dataframe tbody tr th:only-of-type {\n",
       "        vertical-align: middle;\n",
       "    }\n",
       "\n",
       "    .dataframe tbody tr th {\n",
       "        vertical-align: top;\n",
       "    }\n",
       "\n",
       "    .dataframe thead th {\n",
       "        text-align: right;\n",
       "    }\n",
       "</style>\n",
       "<table border=\"1\" class=\"dataframe\">\n",
       "  <thead>\n",
       "    <tr style=\"text-align: right;\">\n",
       "      <th></th>\n",
       "      <th>mass</th>\n",
       "      <th>fall</th>\n",
       "      <th>year</th>\n",
       "      <th>region</th>\n",
       "    </tr>\n",
       "  </thead>\n",
       "  <tbody>\n",
       "    <tr>\n",
       "      <th>0</th>\n",
       "      <td>21.0</td>\n",
       "      <td>Fell</td>\n",
       "      <td>1880.0</td>\n",
       "      <td>north_east</td>\n",
       "    </tr>\n",
       "    <tr>\n",
       "      <th>1</th>\n",
       "      <td>720.0</td>\n",
       "      <td>Fell</td>\n",
       "      <td>1951.0</td>\n",
       "      <td>north_east</td>\n",
       "    </tr>\n",
       "    <tr>\n",
       "      <th>2</th>\n",
       "      <td>107000.0</td>\n",
       "      <td>Fell</td>\n",
       "      <td>1952.0</td>\n",
       "      <td>north_west</td>\n",
       "    </tr>\n",
       "    <tr>\n",
       "      <th>3</th>\n",
       "      <td>1914.0</td>\n",
       "      <td>Fell</td>\n",
       "      <td>1976.0</td>\n",
       "      <td>north_west</td>\n",
       "    </tr>\n",
       "    <tr>\n",
       "      <th>4</th>\n",
       "      <td>780.0</td>\n",
       "      <td>Fell</td>\n",
       "      <td>1902.0</td>\n",
       "      <td>south_west</td>\n",
       "    </tr>\n",
       "  </tbody>\n",
       "</table>\n",
       "</div>"
      ],
      "text/plain": [
       "       mass  fall    year      region\n",
       "0      21.0  Fell  1880.0  north_east\n",
       "1     720.0  Fell  1951.0  north_east\n",
       "2  107000.0  Fell  1952.0  north_west\n",
       "3    1914.0  Fell  1976.0  north_west\n",
       "4     780.0  Fell  1902.0  south_west"
      ]
     },
     "execution_count": 24,
     "metadata": {},
     "output_type": "execute_result"
    }
   ],
   "source": [
    "df.head()"
   ]
  },
  {
   "cell_type": "code",
   "execution_count": 25,
   "id": "de6a52b7",
   "metadata": {
    "execution": {
     "iopub.execute_input": "2023-06-13T15:20:32.042779Z",
     "iopub.status.busy": "2023-06-13T15:20:32.042425Z",
     "iopub.status.idle": "2023-06-13T15:20:33.267183Z",
     "shell.execute_reply": "2023-06-13T15:20:33.265674Z"
    },
    "papermill": {
     "duration": 1.237248,
     "end_time": "2023-06-13T15:20:33.269771",
     "exception": false,
     "start_time": "2023-06-13T15:20:32.032523",
     "status": "completed"
    },
    "tags": []
   },
   "outputs": [],
   "source": [
    "from sklearn.preprocessing import LabelEncoder\n",
    "le=LabelEncoder()\n",
    "df[\"region\"]=le.fit_transform(df[\"region\"])"
   ]
  },
  {
   "cell_type": "code",
   "execution_count": 26,
   "id": "1d9b661d",
   "metadata": {
    "execution": {
     "iopub.execute_input": "2023-06-13T15:20:33.296025Z",
     "iopub.status.busy": "2023-06-13T15:20:33.295619Z",
     "iopub.status.idle": "2023-06-13T15:20:33.308813Z",
     "shell.execute_reply": "2023-06-13T15:20:33.307581Z"
    },
    "papermill": {
     "duration": 0.027843,
     "end_time": "2023-06-13T15:20:33.311590",
     "exception": false,
     "start_time": "2023-06-13T15:20:33.283747",
     "status": "completed"
    },
    "tags": []
   },
   "outputs": [
    {
     "data": {
      "text/html": [
       "<div>\n",
       "<style scoped>\n",
       "    .dataframe tbody tr th:only-of-type {\n",
       "        vertical-align: middle;\n",
       "    }\n",
       "\n",
       "    .dataframe tbody tr th {\n",
       "        vertical-align: top;\n",
       "    }\n",
       "\n",
       "    .dataframe thead th {\n",
       "        text-align: right;\n",
       "    }\n",
       "</style>\n",
       "<table border=\"1\" class=\"dataframe\">\n",
       "  <thead>\n",
       "    <tr style=\"text-align: right;\">\n",
       "      <th></th>\n",
       "      <th>mass</th>\n",
       "      <th>fall</th>\n",
       "      <th>year</th>\n",
       "      <th>region</th>\n",
       "    </tr>\n",
       "  </thead>\n",
       "  <tbody>\n",
       "    <tr>\n",
       "      <th>0</th>\n",
       "      <td>21.0</td>\n",
       "      <td>Fell</td>\n",
       "      <td>1880.0</td>\n",
       "      <td>1</td>\n",
       "    </tr>\n",
       "    <tr>\n",
       "      <th>1</th>\n",
       "      <td>720.0</td>\n",
       "      <td>Fell</td>\n",
       "      <td>1951.0</td>\n",
       "      <td>1</td>\n",
       "    </tr>\n",
       "    <tr>\n",
       "      <th>2</th>\n",
       "      <td>107000.0</td>\n",
       "      <td>Fell</td>\n",
       "      <td>1952.0</td>\n",
       "      <td>2</td>\n",
       "    </tr>\n",
       "    <tr>\n",
       "      <th>3</th>\n",
       "      <td>1914.0</td>\n",
       "      <td>Fell</td>\n",
       "      <td>1976.0</td>\n",
       "      <td>2</td>\n",
       "    </tr>\n",
       "    <tr>\n",
       "      <th>4</th>\n",
       "      <td>780.0</td>\n",
       "      <td>Fell</td>\n",
       "      <td>1902.0</td>\n",
       "      <td>4</td>\n",
       "    </tr>\n",
       "  </tbody>\n",
       "</table>\n",
       "</div>"
      ],
      "text/plain": [
       "       mass  fall    year  region\n",
       "0      21.0  Fell  1880.0       1\n",
       "1     720.0  Fell  1951.0       1\n",
       "2  107000.0  Fell  1952.0       2\n",
       "3    1914.0  Fell  1976.0       2\n",
       "4     780.0  Fell  1902.0       4"
      ]
     },
     "execution_count": 26,
     "metadata": {},
     "output_type": "execute_result"
    }
   ],
   "source": [
    "df.head()"
   ]
  },
  {
   "cell_type": "code",
   "execution_count": 27,
   "id": "50460e99",
   "metadata": {
    "execution": {
     "iopub.execute_input": "2023-06-13T15:20:33.331532Z",
     "iopub.status.busy": "2023-06-13T15:20:33.330901Z",
     "iopub.status.idle": "2023-06-13T15:20:33.616002Z",
     "shell.execute_reply": "2023-06-13T15:20:33.615063Z"
    },
    "papermill": {
     "duration": 0.297869,
     "end_time": "2023-06-13T15:20:33.618621",
     "exception": false,
     "start_time": "2023-06-13T15:20:33.320752",
     "status": "completed"
    },
    "tags": []
   },
   "outputs": [],
   "source": [
    "from sklearn.model_selection import train_test_split\n",
    "df=df.drop(\"fall\",axis=1)\n",
    "X=df.drop(\"region\",axis=1)\n",
    "y=df[\"region\"]\n",
    "X_train,X_test,y_train,y_test=train_test_split(X,y,test_size=0.2,random_state=0)"
   ]
  },
  {
   "cell_type": "code",
   "execution_count": 28,
   "id": "491dbda6",
   "metadata": {
    "execution": {
     "iopub.execute_input": "2023-06-13T15:20:33.639786Z",
     "iopub.status.busy": "2023-06-13T15:20:33.639321Z",
     "iopub.status.idle": "2023-06-13T15:20:34.001018Z",
     "shell.execute_reply": "2023-06-13T15:20:33.999368Z"
    },
    "papermill": {
     "duration": 0.375296,
     "end_time": "2023-06-13T15:20:34.003281",
     "exception": false,
     "start_time": "2023-06-13T15:20:33.627985",
     "status": "completed"
    },
    "tags": []
   },
   "outputs": [
    {
     "name": "stdout",
     "output_type": "stream",
     "text": [
      "0.97861328125\n",
      "0.7412760416666667\n"
     ]
    }
   ],
   "source": [
    "from sklearn.tree import DecisionTreeClassifier\n",
    "dt=DecisionTreeClassifier()\n",
    "dt.fit(X_train,y_train)\n",
    "print(dt.score(X_train,y_train))\n",
    "print(dt.score(X_test,y_test))"
   ]
  },
  {
   "cell_type": "code",
   "execution_count": 29,
   "id": "9e629208",
   "metadata": {
    "execution": {
     "iopub.execute_input": "2023-06-13T15:20:34.023159Z",
     "iopub.status.busy": "2023-06-13T15:20:34.022805Z",
     "iopub.status.idle": "2023-06-13T15:20:34.511826Z",
     "shell.execute_reply": "2023-06-13T15:20:34.510580Z"
    },
    "papermill": {
     "duration": 0.501251,
     "end_time": "2023-06-13T15:20:34.513687",
     "exception": false,
     "start_time": "2023-06-13T15:20:34.012436",
     "status": "completed"
    },
    "tags": []
   },
   "outputs": [
    {
     "data": {
      "image/png": "[encoded data removed]",
      "text/plain": [
       "<Figure size 800x600 with 1 Axes>"
      ]
     },
     "metadata": {},
     "output_type": "display_data"
    }
   ],
   "source": [
    "from sklearn import metrics\n",
    "import seaborn as sns\n",
    "import matplotlib.pyplot as plt\n",
    "y_pred=dt.predict(X_test)\n",
    "confusion_matrix = metrics.confusion_matrix(y_test, y_pred)\n",
    "# Create a figure and axis\n",
    "fig, ax = plt.subplots(figsize=(8, 6))\n",
    "\n",
    "# Create a heatmap using seaborn\n",
    "sns.heatmap(confusion_matrix, annot=True, cmap=\"Blues\", fmt=\"d\", cbar=False)\n",
    "\n",
    "# Set axis labels and title\n",
    "ax.set_xlabel(\"Predicted\")\n",
    "ax.set_ylabel(\"Actual\")\n",
    "ax.set_title(\"Confusion Matrix\")\n",
    "\n",
    "\n",
    "# Rotate tick labels for better readability\n",
    "plt.xticks(rotation=45)\n",
    "plt.yticks(rotation=0)\n",
    "\n",
    "# Show the plot\n",
    "plt.show()"
   ]
  },
  {
   "cell_type": "code",
   "execution_count": 30,
   "id": "2947fd37",
   "metadata": {
    "execution": {
     "iopub.execute_input": "2023-06-13T15:20:34.534217Z",
     "iopub.status.busy": "2023-06-13T15:20:34.533852Z",
     "iopub.status.idle": "2023-06-13T15:20:38.763096Z",
     "shell.execute_reply": "2023-06-13T15:20:38.760807Z"
    },
    "papermill": {
     "duration": 4.242466,
     "end_time": "2023-06-13T15:20:38.765484",
     "exception": false,
     "start_time": "2023-06-13T15:20:34.523018",
     "status": "completed"
    },
    "tags": []
   },
   "outputs": [
    {
     "name": "stdout",
     "output_type": "stream",
     "text": [
      "0.9785807291666667\n",
      "0.7513020833333334\n"
     ]
    }
   ],
   "source": [
    "from sklearn.ensemble import RandomForestClassifier\n",
    "dt=RandomForestClassifier()\n",
    "dt.fit(X_train,y_train)\n",
    "print(dt.score(X_train,y_train))\n",
    "print(dt.score(X_test,y_test))"
   ]
  },
  {
   "cell_type": "code",
   "execution_count": 31,
   "id": "a903ef0e",
   "metadata": {
    "execution": {
     "iopub.execute_input": "2023-06-13T15:20:38.786004Z",
     "iopub.status.busy": "2023-06-13T15:20:38.785645Z",
     "iopub.status.idle": "2023-06-13T15:23:52.898578Z",
     "shell.execute_reply": "2023-06-13T15:23:52.897394Z"
    },
    "papermill": {
     "duration": 194.132366,
     "end_time": "2023-06-13T15:23:52.907294",
     "exception": false,
     "start_time": "2023-06-13T15:20:38.774928",
     "status": "completed"
    },
    "tags": []
   },
   "outputs": [
    {
     "name": "stdout",
     "output_type": "stream",
     "text": [
      "Best Parameters:  {'gamma': 0.1, 'learning_rate': 0.1}\n",
      "Best Score:  0.8009114583333332\n",
      "Accuracy:  0.8001302083333334\n"
     ]
    }
   ],
   "source": [
    "import pandas as pd\n",
    "from xgboost import XGBClassifier\n",
    "from sklearn.model_selection import GridSearchCV\n",
    "from sklearn.metrics import accuracy_score\n",
    "xgb_model = XGBClassifier()\n",
    "param_grid = {\n",
    "    'learning_rate': [0.1, 0.01, 0.001],\n",
    "    'gamma': [0, 0.1, 0.2]\n",
    "}\n",
    "grid_search = GridSearchCV(estimator=xgb_model, param_grid=param_grid, scoring='accuracy', cv=5)\n",
    "grid_search.fit(X_train, y_train)\n",
    "\n",
    "# Get the best parameters and the best score\n",
    "best_params = grid_search.best_params_\n",
    "best_score = grid_search.best_score_\n",
    "\n",
    "# Train the XGBoost model with the best parameters\n",
    "best_model = XGBClassifier(**best_params)\n",
    "best_model.fit(X_train, y_train)\n",
    "\n",
    "# Make predictions on the test set\n",
    "y_pred = best_model.predict(X_test)\n",
    "\n",
    "# Calculate the accuracy score\n",
    "accuracy = accuracy_score(y_test, y_pred)\n",
    "\n",
    "# Print the best parameters, best score, and accuracy\n",
    "print(\"Best Parameters: \", best_params)\n",
    "print(\"Best Score: \", best_score)\n",
    "print(\"Accuracy: \", accuracy)"
   ]
  },
  {
   "cell_type": "code",
   "execution_count": 32,
   "id": "bb8b0132",
   "metadata": {
    "execution": {
     "iopub.execute_input": "2023-06-13T15:23:52.927006Z",
     "iopub.status.busy": "2023-06-13T15:23:52.926670Z",
     "iopub.status.idle": "2023-06-13T15:23:53.140908Z",
     "shell.execute_reply": "2023-06-13T15:23:53.139945Z"
    },
    "papermill": {
     "duration": 0.226482,
     "end_time": "2023-06-13T15:23:53.142962",
     "exception": false,
     "start_time": "2023-06-13T15:23:52.916480",
     "status": "completed"
    },
    "tags": []
   },
   "outputs": [
    {
     "data": {
      "image/png": "[encoded data removed]",
      "text/plain": [
       "<Figure size 800x600 with 1 Axes>"
      ]
     },
     "metadata": {},
     "output_type": "display_data"
    }
   ],
   "source": [
    "y_pred=best_model.predict(X_test)\n",
    "confusion_matrix = metrics.confusion_matrix(y_test, y_pred)\n",
    "# Create a figure and axis\n",
    "fig, ax = plt.subplots(figsize=(8, 6))\n",
    "\n",
    "# Create a heatmap using seaborn\n",
    "sns.heatmap(confusion_matrix, annot=True, cmap=\"Blues\", fmt=\"d\", cbar=False)\n",
    "\n",
    "# Set axis labels and title\n",
    "ax.set_xlabel(\"Predicted\")\n",
    "ax.set_ylabel(\"Actual\")\n",
    "ax.set_title(\"Confusion Matrix\")\n",
    "\n",
    "\n",
    "# Rotate tick labels for better readability\n",
    "plt.xticks(rotation=45)\n",
    "plt.yticks(rotation=0)\n",
    "\n",
    "# Show the plot\n",
    "plt.show()"
   ]
  }
 ],
 "metadata": {
  "kernelspec": {
   "display_name": "Python 3",
   "language": "python",
   "name": "python3"
  },
  "language_info": {
   "codemirror_mode": {
    "name": "ipython",
    "version": 3
   },
   "file_extension": ".py",
   "mimetype": "text/x-python",
   "name": "python",
   "nbconvert_exporter": "python",
   "pygments_lexer": "ipython3",
   "version": "3.10.10"
  },
  "papermill": {
   "default_parameters": {},
   "duration": 215.359981,
   "end_time": "2023-06-13T15:23:54.275161",
   "environment_variables": {},
   "exception": null,
   "input_path": "__notebook__.ipynb",
   "output_path": "__notebook__.ipynb",
   "parameters": {},
   "start_time": "2023-06-13T15:20:18.915180",
   "version": "2.4.0"
  }
 },
 "nbformat": 4,
 "nbformat_minor": 5
}
